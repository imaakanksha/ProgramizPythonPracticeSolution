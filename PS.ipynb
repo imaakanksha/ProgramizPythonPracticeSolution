{
 "cells": [
  {
   "cell_type": "code",
   "execution_count": 2,
   "metadata": {},
   "outputs": [
    {
     "name": "stdout",
     "output_type": "stream",
     "text": [
      "Hello, World!\n"
     ]
    }
   ],
   "source": [
    "#Python Program to Print Hello World!\n",
    "print(\"Hello, World!\")"
   ]
  },
  {
   "cell_type": "code",
   "execution_count": 5,
   "metadata": {},
   "outputs": [
    {
     "name": "stdout",
     "output_type": "stream",
     "text": [
      "The sum of 2.9 and 3.1 is 6.0\n",
      "The sume of 86 and 45 is 131.0\n"
     ]
    }
   ],
   "source": [
    "#Python Program to Add Two Numbers\n",
    "num1=2.9\n",
    "num2=3.1\n",
    "sum = num1+num2\n",
    "print('The sum of {0} and {1} is {2}'.format(num1,num2,sum))\n",
    "\n",
    "#Add the two number using the User Input\n",
    "\n",
    "num1=input('Enter first number: ')\n",
    "num2=input('Enter second Number: ')\n",
    "sum = float(num1)+float(num2)\n",
    "print('The sume of {0} and {1} is {2}'.format(num1,num2,sum))\n"
   ]
  },
  {
   "cell_type": "code",
   "execution_count": 7,
   "metadata": {},
   "outputs": [
    {
     "name": "stdout",
     "output_type": "stream",
     "text": [
      "The sqare root of 9.000 is 3.000\n"
     ]
    }
   ],
   "source": [
    "#Python Program to Find the Square Root\n",
    "num=9\n",
    "num_sqrt=num**0.5\n",
    "print('The sqare root of %0.3f is %0.3f'%(num,num_sqrt))"
   ]
  },
  {
   "cell_type": "code",
   "execution_count": 9,
   "metadata": {},
   "outputs": [
    {
     "name": "stdout",
     "output_type": "stream",
     "text": [
      "The sqare root of 5.000 is 2.236\n"
     ]
    }
   ],
   "source": [
    "#Python Program to find the Square root of the numbe by taking the input from the user\n",
    "num=float(input('Enter a number: '))\n",
    "num_sqrt = num**0.5\n",
    "print('The sqare root of %0.3f is %0.3f'%(num,num_sqrt))\n"
   ]
  },
  {
   "cell_type": "code",
   "execution_count": 11,
   "metadata": {},
   "outputs": [
    {
     "name": "stdout",
     "output_type": "stream",
     "text": [
      "The area of the triangle with base 9.000 and height 6.000 is 27.000\n"
     ]
    }
   ],
   "source": [
    "#Python Program to calculate the Area of a Right angled Triangle\n",
    "\n",
    "h=float(input('Enter the height of the right angled Triangle: '))\n",
    "b=float(input('Enter the base of the right angled Triangle: '))\n",
    "area=0.5*h*b\n",
    "print('The area of the triangle with base %0.3f and height %0.3f is %0.3f'%(h,b,area))\n"
   ]
  },
  {
   "cell_type": "code",
   "execution_count": 13,
   "metadata": {},
   "outputs": [
    {
     "name": "stdout",
     "output_type": "stream",
     "text": [
      "The area of the trianle is 26.833\n"
     ]
    }
   ],
   "source": [
    "#Python Program to calculate the area of the Triangle\n",
    "a=float(input('Enter first side: '))\n",
    "b=float(input('Enter second side: '))\n",
    "c=float(input('Enter third side: '))\n",
    "\n",
    "s=(a+b+c)/2\n",
    "area = (s*(s-a)*(s-b)*(s-c))**0.5\n",
    "print('The area of the trianle is %0.3f'%area)"
   ]
  },
  {
   "cell_type": "code",
   "execution_count": 20,
   "metadata": {},
   "outputs": [
    {
     "name": "stdout",
     "output_type": "stream",
     "text": [
      "The solution are (-3+0j) and (-2+0j)\n"
     ]
    }
   ],
   "source": [
    "#Python program to solve Quadratic Equation\n",
    "import cmath\n",
    "a=int(input('Enter the value of a: '))\n",
    "b=int(input('Enter the value of b: '))\n",
    "c=int(input('Enter the value of c: '))\n",
    "\n",
    "d= (b**2) - (4*a*c)\n",
    "sol1= (-b-cmath.sqrt(d))/(2*a)\n",
    "sol2=(-b+cmath.sqrt(d))/(2*a)\n",
    "\n",
    "print('The solution are {0} and {1}'.format(sol1,sol2))"
   ]
  },
  {
   "cell_type": "code",
   "execution_count": 22,
   "metadata": {},
   "outputs": [
    {
     "name": "stdout",
     "output_type": "stream",
     "text": [
      "The swaped value of a is 6 and b is  9\n"
     ]
    }
   ],
   "source": [
    "#Python Program to Swap two variables\n",
    "a=int(input('Enter the value of the first variable:'))\n",
    "b=int(input(\"Enter the value of the second variable:\"))\n",
    "\n",
    "a=a+b\n",
    "b=a-b\n",
    "a=a-b\n",
    "print('The swaped value of a is {0} and b is  {1}'.format(a,b))"
   ]
  },
  {
   "cell_type": "code",
   "execution_count": 27,
   "metadata": {},
   "outputs": [
    {
     "name": "stdout",
     "output_type": "stream",
     "text": [
      "426671665\n"
     ]
    }
   ],
   "source": [
    "#Python Program to Generate a Random Number\n",
    "#Program to generate a random number between 0 and 9\n",
    "import random\n",
    "print(random.randint(0,900000000))\n"
   ]
  },
  {
   "cell_type": "code",
   "execution_count": 29,
   "metadata": {},
   "outputs": [
    {
     "name": "stdout",
     "output_type": "stream",
     "text": [
      "34.00 kilometers is equal to 21.13 miles\n"
     ]
    }
   ],
   "source": [
    "#Python Program to convert Kilometers to Miles\n",
    "Kilometers = float(input('Enter the value in kilometers: '))\n",
    "conversion_factor=0.621371\n",
    "miles= Kilometers * conversion_factor\n",
    "print('%0.2f kilometers is equal to %0.2f miles'%(Kilometers, miles))\n"
   ]
  },
  {
   "cell_type": "code",
   "execution_count": 31,
   "metadata": {},
   "outputs": [
    {
     "name": "stdout",
     "output_type": "stream",
     "text": [
      "37.5 degree Celcius is equal to 99.5 degree Fahrenheit\n"
     ]
    }
   ],
   "source": [
    "#Python program to convert Celsius to Fahrenheit\n",
    "celcius=float(input('Enter the value of Temperature in Celcius: '))\n",
    "fahrenheit = (celcius * 1.8) +32\n",
    "print('%0.1f degree Celcius is equal to %0.1f degree Fahrenheit'%(celcius,fahrenheit))"
   ]
  },
  {
   "cell_type": "code",
   "execution_count": 40,
   "metadata": {},
   "outputs": [
    {
     "name": "stdout",
     "output_type": "stream",
     "text": [
      "The given number is Positive\n"
     ]
    }
   ],
   "source": [
    "#Python program to check if a Number is Positive, Negative or 0\n",
    "\n",
    "num=float(input('Enter a number: '))\n",
    "if (num>0):\n",
    "    print(\"The given number is Positive\")\n",
    "elif (num<0):\n",
    "    print(\"The given number is negative\")\n",
    "elif (num==0):\n",
    "    print(\"The given number is 0.\")"
   ]
  },
  {
   "cell_type": "code",
   "execution_count": 8,
   "metadata": {},
   "outputs": [
    {
     "name": "stdout",
     "output_type": "stream",
     "text": [
      "11 is an ODD number\n"
     ]
    }
   ],
   "source": [
    "#Python Program to check if the given number is a odd or even.\n",
    "num=int(input('Enter the value of Number:'))\n",
    "if (num % 2 == 0):\n",
    "    print(\"{0} is even number\".format(num))\n",
    "if (num %2 != 0):\n",
    "    print(\"{0} is an ODD number\".format(num))"
   ]
  },
  {
   "cell_type": "code",
   "execution_count": 2,
   "metadata": {},
   "outputs": [
    {
     "name": "stdout",
     "output_type": "stream",
     "text": [
      "1990 is not a Leap Year\n"
     ]
    }
   ],
   "source": [
    "#Python Program to check Leap Year\n",
    "year=int(input('Enter the Year:'))\n",
    "if (year % 400 == 0) and (year % 100 ==0):\n",
    "    print(\"{0} is a Leap Year\".format(year))\n",
    "elif (year % 4 == 0) and (year % 100 !=0):\n",
    "    print(\"{0} is a Leap Year\".format(year))\n",
    "else:\n",
    "    print(\"{0} is not a Leap Year\".format(year))"
   ]
  },
  {
   "cell_type": "code",
   "execution_count": 12,
   "metadata": {},
   "outputs": [
    {
     "name": "stdout",
     "output_type": "stream",
     "text": [
      "The Largest Number is : 9999\n"
     ]
    }
   ],
   "source": [
    "#Python Program to Find the Largest Among three Number\n",
    "a=int(input('Enter the first Number: '))\n",
    "b=int(input('Enter the second Number: '))\n",
    "c=int(input('Enter the third Number: '))\n",
    "\n",
    "list1=[a,b,c]\n",
    "list2=sorted(list1)\n",
    "li=list2[-1]\n",
    "print(f'The Largest Number is : {li}'.format(li))"
   ]
  },
  {
   "cell_type": "code",
   "execution_count": 1,
   "metadata": {},
   "outputs": [
    {
     "name": "stdout",
     "output_type": "stream",
     "text": [
      "The Largest Number is 789.0\n"
     ]
    }
   ],
   "source": [
    "#2nd way Python Program to Find the Largest Among the Three Numbers\n",
    "\n",
    "num1=float(input(\"Enter the First Number: \"))\n",
    "num2=float(input(\"Enter the Second Number: \"))\n",
    "num3=float(input(\"Enter the third number: \"))\n",
    "\n",
    "if (num1 >= num2) and (num1 >= num3 ):\n",
    "    largest = num1\n",
    "elif(num2 >= num1) and (num2 >= num3):\n",
    "    largest = num2\n",
    "else:\n",
    "    largest=num3\n",
    "print(\"The Largest Number is\", largest)\n"
   ]
  },
  {
   "cell_type": "code",
   "execution_count": 13,
   "metadata": {},
   "outputs": [
    {
     "name": "stdout",
     "output_type": "stream",
     "text": [
      "98 is not a Prime Number\n"
     ]
    }
   ],
   "source": [
    "#Python Program to check Prime Number\n",
    "num=int(input(\"Enter the value of number: \"))\n",
    "if num > 1:\n",
    "    for i in range(2,(num//2)+1):\n",
    "        if (num % i) ==0:\n",
    "            print(num, \"is not a Prime Number\")\n",
    "            break\n",
    "    else:\n",
    "        print(num, \"is a Prime Number\")\n",
    "            \n",
    "else:\n",
    "    print(num, \"is not a Prime NUmber\")"
   ]
  },
  {
   "cell_type": "code",
   "execution_count": 16,
   "metadata": {},
   "outputs": [
    {
     "name": "stdout",
     "output_type": "stream",
     "text": [
      "7 is a Prime Number\n"
     ]
    }
   ],
   "source": [
    "#2nd Way Python Program to find the Prime Number\n",
    "num=int(input(\"Enter the value of number: \"))\n",
    "flag=False\n",
    "if num==1:\n",
    "    print(num, \"is not a Prime Number\")\n",
    "elif num >1:\n",
    "    for i in range(2,num):\n",
    "        if (num % i) == 0:\n",
    "            flag=True\n",
    "        break\n",
    "    if flag:\n",
    "        print(num, \"is not a Prime Number\")\n",
    "    else:\n",
    "        print(num, \"is a Prime Number\")"
   ]
  },
  {
   "cell_type": "code",
   "execution_count": 19,
   "metadata": {},
   "outputs": [
    {
     "name": "stdout",
     "output_type": "stream",
     "text": [
      "79 is a Prime Number\n"
     ]
    }
   ],
   "source": [
    "#3 &Improved Way to find the Prime Number\n",
    "num=int(input(\"Enter the number for checking Prime Number: \"))\n",
    "if num==0:\n",
    "    print(num,\"is not a Prime NUmber.\")\n",
    "elif num > 0:\n",
    "    for i in range(2, num):\n",
    "        if (num%2)==0:\n",
    "            print(num, \"is not a Prime Number\")\n",
    "            print(i,\"times\", num//i,\"is\",num)\n",
    "            break\n",
    "    else:\n",
    "        print(num, \"is a Prime Number\")\n",
    "else:\n",
    "    print(num,\"is not a Prime Number\")\n"
   ]
  },
  {
   "cell_type": "code",
   "execution_count": 29,
   "metadata": {},
   "outputs": [
    {
     "name": "stdout",
     "output_type": "stream",
     "text": [
      "Prime numbers between 4 and 99 are:\n",
      "5,7,11,13,17,19,23,29,31,37,41,43,47,53,59,61,67,71,73,79,83,89,97,"
     ]
    }
   ],
   "source": [
    "#Python Program to display all the Prime Numbers within an interval\n",
    "lower=int(input('Enter the lower range value: '))\n",
    "upper=int(input(\"Enter the upper range value: \"))\n",
    "\n",
    "print(\"Prime numbers between\",lower,\"and\",upper,\"are:\")\n",
    "\n",
    "for num in range(lower,upper+1):\n",
    "    if num > 1:\n",
    "        for i in range(2,num):\n",
    "            if (num % i) == 0:\n",
    "                break\n",
    "        else:\n",
    "            print(num, end=\",\")"
   ]
  },
  {
   "cell_type": "code",
   "execution_count": 35,
   "metadata": {},
   "outputs": [
    {
     "name": "stdout",
     "output_type": "stream",
     "text": [
      "1,2,3,6,13,26,39,78,"
     ]
    }
   ],
   "source": [
    "#Python Program to Find the Factors of a Number\n",
    "num=int(input(\"Enter the value of number of which you want to find factorial: \"))\n",
    "for i in range(1,num+1):\n",
    "    if (num % i) == 0:\n",
    "        print(i, end=\",\")"
   ]
  },
  {
   "cell_type": "code",
   "execution_count": 40,
   "metadata": {},
   "outputs": [
    {
     "name": "stdout",
     "output_type": "stream",
     "text": [
      "The Factorial of 9 is 362880\n"
     ]
    }
   ],
   "source": [
    "#Python Program to Find the Factorial of a Number\n",
    "num=int(input(\"Enter the value of number: \"))\n",
    "factorial = 1\n",
    "if num < 0:\n",
    "    print(\"Sorry, factorial does not exist for the negative numbers\")\n",
    "elif num == 0:\n",
    "    print(\"The Factorial of 0 is 1\")\n",
    "else:\n",
    "    for i in range(1,num+1):\n",
    "        factorial=factorial*i\n",
    "    print(\"The Factorial of\",num,\"is\",factorial)"
   ]
  },
  {
   "cell_type": "code",
   "execution_count": 43,
   "metadata": {},
   "outputs": [
    {
     "name": "stdout",
     "output_type": "stream",
     "text": [
      "The Factorial of 10 is 3628800\n"
     ]
    }
   ],
   "source": [
    "#Python Program to find the Factorial of a NUmber using Recursion\n",
    "def factorial(x):\n",
    "    \"\"\"This is a recursive function to find the \n",
    "    factorial of an integer\"\"\"\n",
    "    if x == 1:\n",
    "        return 1\n",
    "    else:\n",
    "        return(x*factorial(x-1))\n",
    "num=int(input('Enter the value of num: '))\n",
    "result=factorial(num)\n",
    "print(\"The Factorial of\",num,\"is\",result)"
   ]
  },
  {
   "cell_type": "code",
   "execution_count": 52,
   "metadata": {},
   "outputs": [
    {
     "name": "stdout",
     "output_type": "stream",
     "text": [
      "The Multiplication Table of 19 is\n",
      "19 x 1 = 19\n",
      "19 x 2 = 38\n",
      "19 x 3 = 57\n",
      "19 x 4 = 76\n",
      "19 x 5 = 95\n",
      "19 x 6 = 114\n",
      "19 x 7 = 133\n",
      "19 x 8 = 152\n",
      "19 x 9 = 171\n",
      "19 x 10 = 190\n"
     ]
    }
   ],
   "source": [
    "#Python Program to Display the Multiplication Table\n",
    "num=int(input(\"Enter the value of number, whose multiplication table you want to display: \"))\n",
    "print(f\"The Multiplication Table of {num} is\".format(num))\n",
    "for i in range(1,11):\n",
    "    mul=num*i\n",
    "\n",
    "    print(num, \"x\" ,i,'=', mul)\n"
   ]
  },
  {
   "cell_type": "code",
   "execution_count": 54,
   "metadata": {},
   "outputs": [
    {
     "name": "stdout",
     "output_type": "stream",
     "text": [
      "16 x 1 = 16\n",
      "16 x 2 = 32\n",
      "16 x 3 = 48\n",
      "16 x 4 = 64\n",
      "16 x 5 = 80\n",
      "16 x 6 = 96\n",
      "16 x 7 = 112\n",
      "16 x 8 = 128\n",
      "16 x 9 = 144\n",
      "16 x 10 = 160\n"
     ]
    }
   ],
   "source": [
    "#2nd Way Python Program to Display the Multiplication Table\n",
    "num=int(input(\"Enter the value of num for which you want to print Multiplication Table\"))\n",
    "for i in range(1,11):\n",
    "    print(num, 'x' ,i, '=' ,num*i)"
   ]
  },
  {
   "cell_type": "code",
   "execution_count": 56,
   "metadata": {},
   "outputs": [
    {
     "name": "stdout",
     "output_type": "stream",
     "text": [
      "Fibonacci Sequence:\n",
      "0\n",
      "1\n",
      "1\n",
      "2\n",
      "3\n",
      "5\n",
      "8\n",
      "13\n",
      "21\n"
     ]
    }
   ],
   "source": [
    "#Python Program to Print the Fibonacci Sequence\n",
    "#Fibonacci Sequence=0,1,1,2,3,5,8,13,21.....(Each number is the sum of 2 preeciding numbers)\n",
    "nterms=int(input(\"How many Terms? \"))\n",
    "n1,n2=0,1\n",
    "count=0\n",
    "if nterms <= 0:\n",
    "    print(\"Please enter a positive number\")\n",
    "elif nterms == 1:\n",
    "    print(\"Fibonacci Series upto\",nterms,\":\")\n",
    "    print(n1)\n",
    "else: \n",
    "    print(\"Fibonacci Sequence:\")\n",
    "    while count < nterms:\n",
    "        print(n1)\n",
    "        nth=n1+n2\n",
    "        n1=n2\n",
    "        n2=nth\n",
    "        count+=1"
   ]
  },
  {
   "cell_type": "code",
   "execution_count": 60,
   "metadata": {},
   "outputs": [
    {
     "name": "stdout",
     "output_type": "stream",
     "text": [
      "789 is not an Armstrong number\n"
     ]
    }
   ],
   "source": [
    "#Python Program to check if the number is an Armstrong number\n",
    "#Armstrong number of 3 digits, the sum of cubes of each digit is equal to the number itself.\n",
    "#e.g. 153= 1*1*1 + 5*5*5 + 3*3*3 , 153 is a Armstrong Number\n",
    "\n",
    "num=int(input(\"Enter the value of a number: \"))\n",
    "sum=0\n",
    "temp = num\n",
    "while temp>0:\n",
    "    digit=temp%10\n",
    "    sum += digit ** 3\n",
    "    temp //= 10\n",
    "\n",
    "if num == sum:\n",
    "    print(num,\"is an Armstrong Number\")\n",
    "else:\n",
    "    print(num,\"is not an Armstrong number\")"
   ]
  },
  {
   "cell_type": "code",
   "execution_count": 63,
   "metadata": {},
   "outputs": [
    {
     "name": "stdout",
     "output_type": "stream",
     "text": [
      "5478 is not an Armstrong Number\n"
     ]
    }
   ],
   "source": [
    "#2nd Way Python Program to check if the given number is an Armstrong Number of n digits\n",
    "num=int(input(\"Enter the value of n: \"))\n",
    "order=len(str(num))\n",
    "sum=0\n",
    "temp=num\n",
    "while temp>0:\n",
    "    digit=num%10\n",
    "    sum+=digit ** order\n",
    "    temp //= 10\n",
    "if num == sum:\n",
    "    print(num, 'is an Armstrong Number.')\n",
    "else:\n",
    "    print(num,\"is not an Armstrong Number\")"
   ]
  },
  {
   "cell_type": "code",
   "execution_count": 72,
   "metadata": {},
   "outputs": [
    {
     "name": "stdout",
     "output_type": "stream",
     "text": [
      "153\n",
      "370\n",
      "371\n",
      "407\n",
      "1634\n"
     ]
    }
   ],
   "source": [
    "#Python Program to Find Armstrong Number in an interval\n",
    "lower=int(input(\"Enter the lower range of interval: \"))\n",
    "upper=int(input(\"Enter the upper range of interval: \"))\n",
    "for i in range(lower,upper+1):\n",
    "    sum=0\n",
    "    temp=i\n",
    "    order=len(str(i))\n",
    "    while temp>0:\n",
    "        digit=temp%10\n",
    "        sum += digit**order\n",
    "        temp //= 10\n",
    "    \n",
    "    if i == sum:\n",
    "        \n",
    "        print(i)"
   ]
  },
  {
   "cell_type": "code",
   "execution_count": 77,
   "metadata": {},
   "outputs": [
    {
     "name": "stdout",
     "output_type": "stream",
     "text": [
      "The sum of the natural numbers till 5 is 15\n"
     ]
    }
   ],
   "source": [
    "#Python Program to find the Sum of Natural Numbrs\n",
    "num=int(input(\"Enter the natural number upto which you want the sum: \"))\n",
    "sum=0\n",
    "if num<0:\n",
    "    print(\"Please enter the positive number (num>0)\")\n",
    "else:\n",
    "    for i in range(1,num+1):\n",
    "        sum=sum+i\n",
    "    print(f'The sum of the natural numbers till {num} is {sum}'.format(num,sum))\n"
   ]
  },
  {
   "cell_type": "code",
   "execution_count": 79,
   "metadata": {},
   "outputs": [
    {
     "name": "stdout",
     "output_type": "stream",
     "text": [
      "The sum is 1035\n"
     ]
    }
   ],
   "source": [
    "#2nd Way Python Program to find the sum of Natural Numbers\n",
    "num=int(input(\"Enter the number: \"))\n",
    "if num < 0:\n",
    "    print(\"Enter a positive number\")\n",
    "else:\n",
    "    sum=0\n",
    "    while (num > 0):\n",
    "        sum += num\n",
    "        num -= 1\n",
    "    print(\"The sum is\", sum)"
   ]
  },
  {
   "cell_type": "code",
   "execution_count": 81,
   "metadata": {},
   "outputs": [
    {
     "name": "stdout",
     "output_type": "stream",
     "text": [
      "The Total Terms are:  11\n",
      "2 raised to the power 0 is 1\n",
      "2 raised to the power 1 is 2\n",
      "2 raised to the power 2 is 4\n",
      "2 raised to the power 3 is 8\n",
      "2 raised to the power 4 is 16\n",
      "2 raised to the power 5 is 32\n",
      "2 raised to the power 6 is 64\n",
      "2 raised to the power 7 is 128\n",
      "2 raised to the power 8 is 256\n",
      "2 raised to the power 9 is 512\n",
      "2 raised to the power 10 is 1024\n"
     ]
    }
   ],
   "source": [
    "#Python Program to Display Power of 2 Using Anonymous Function\n",
    "terms=int(input(\"How many terms? \"))\n",
    "result=list(map(lambda x : 2**x, range(terms)))\n",
    "print(\"The Total Terms are: \",terms)\n",
    "for i in range(terms):\n",
    "    print(\"2 raised to the power\", i,\"is\",result[i])"
   ]
  },
  {
   "cell_type": "code",
   "execution_count": 85,
   "metadata": {},
   "outputs": [
    {
     "name": "stdout",
     "output_type": "stream",
     "text": [
      "2 raised to power 0 is 1\n",
      "2 raised to power 1 is 2\n",
      "2 raised to power 2 is 4\n",
      "2 raised to power 3 is 8\n",
      "2 raised to power 4 is 16\n",
      "2 raised to power 5 is 32\n",
      "2 raised to power 6 is 64\n",
      "2 raised to power 7 is 128\n",
      "2 raised to power 8 is 256\n",
      "2 raised to power 9 is 512\n",
      "2 raised to power 10 is 1024\n",
      "2 raised to power 11 is 2048\n",
      "2 raised to power 12 is 4096\n",
      "2 raised to power 13 is 8192\n",
      "2 raised to power 14 is 16384\n"
     ]
    }
   ],
   "source": [
    "#2nd way Python Program to Display Powers of 2 Using Anonymous Function\n",
    "terms=int(input(\"Enter the total terms: \"))\n",
    "for i in range(terms):\n",
    "    result=2**i\n",
    "    print(\"2 raised to power\",i,\"is\",result)"
   ]
  },
  {
   "cell_type": "code",
   "execution_count": 88,
   "metadata": {},
   "outputs": [
    {
     "name": "stdout",
     "output_type": "stream",
     "text": [
      "Numbers are divisible by 13 are 65\n",
      "Numbers are divisible by 13 are 39\n",
      "Numbers are divisible by 13 are 221\n"
     ]
    }
   ],
   "source": [
    "#Python Program to Find Numbers Divisible by Another Number\n",
    "num=int(input(\"Enter the value of the number: \"))\n",
    "my_list=[12,65,54,39,102,339,221]\n",
    "for i in my_list:\n",
    "    if i % num == 0:\n",
    "\n",
    "        print(f\"Numbers are divisible by {num} are\".format(num),i)"
   ]
  },
  {
   "cell_type": "code",
   "execution_count": 91,
   "metadata": {},
   "outputs": [
    {
     "name": "stdout",
     "output_type": "stream",
     "text": [
      "Numbers divisible by 13 are [65, 39, 221]\n"
     ]
    }
   ],
   "source": [
    "#2nd Way Python Program to Find the Numbers Divisible by Another Number\n",
    "num=int(input(\"Enter the number from which list should be divisible: \"))\n",
    "my_list=[12,65,54,39,102,339,221]\n",
    "result=list(filter(lambda x:( x % num == 0),my_list))\n",
    "print(f\"Numbers divisible by {num} are\".format(num), result)"
   ]
  },
  {
   "cell_type": "code",
   "execution_count": 93,
   "metadata": {},
   "outputs": [
    {
     "name": "stdout",
     "output_type": "stream",
     "text": [
      "The decimal value of 334 is:\n",
      "0b101001110 in binary.\n",
      "0o516 is octal.\n",
      "0x14e is hexadecimal.\n"
     ]
    }
   ],
   "source": [
    "#Python Program to convert Decimal to Binary, Octal and Hexadecimal\n",
    "#We have to use built in Functions like bin(),oct(),hex()\n",
    "dec=int(input(\"Enter the value of the Decimal number: \"))\n",
    "print(\"The decimal value of\", dec, \"is:\")\n",
    "print(bin(dec), \"in binary.\")\n",
    "print(oct(dec), \"is octal.\")\n",
    "print(hex(dec), \"is hexadecimal.\")"
   ]
  },
  {
   "cell_type": "code",
   "execution_count": 96,
   "metadata": {},
   "outputs": [
    {
     "name": "stdout",
     "output_type": "stream",
     "text": [
      "The ASCII value of A is 65\n"
     ]
    }
   ],
   "source": [
    "#Python Program to find the ASCII Value of Character\n",
    "#We have to use bult in function: ord() to convert a character into an integer (ASCII Value)\n",
    "#This function return the Unicode code point of that character.\n",
    "charr=input(\"Enter the character value for which you want ASCII Value: \")\n",
    "print(f\"The ASCII value of {charr}\".format(charr), \"is\", ord(charr))"
   ]
  },
  {
   "cell_type": "code",
   "execution_count": 101,
   "metadata": {},
   "outputs": [
    {
     "name": "stdout",
     "output_type": "stream",
     "text": [
      "The H.C.F of 24 and 54 is  6\n"
     ]
    }
   ],
   "source": [
    "#Python Program to Find HCF or GCD\n",
    "def compute_hcf(x,y):\n",
    "    if x > y:\n",
    "        smaller = y\n",
    "    else: \n",
    "        smaller = x\n",
    "    for i in range(1, smaller+1):\n",
    "        if((x % i == 0) and (y % i ==0)):\n",
    "            hcf=i\n",
    "    return hcf\n",
    "num1=int(input(\"Enter the value of first number: \"))\n",
    "num2=int(input(\"Enter the value of the second number: \"))\n",
    "print(f\"The H.C.F of {num1} and {num2} is \".format(num1,num2), compute_hcf(num1,num2))"
   ]
  },
  {
   "cell_type": "code",
   "execution_count": 103,
   "metadata": {},
   "outputs": [
    {
     "name": "stdout",
     "output_type": "stream",
     "text": [
      "The HCF is 25\n"
     ]
    }
   ],
   "source": [
    "#Python Program to Find HCF or GCD using Euclidian Algorithm\n",
    "def compute_hcf(x, y):\n",
    "    while(y):\n",
    "        x,y=y,x%y\n",
    "    return x\n",
    "num1=int(input(\"Enter the value of first number: \"))\n",
    "num2=int(input(\"Enter the value of the second number: \"))\n",
    "hcf=compute_hcf(num1,num2)\n",
    "print(\"The HCF is\", hcf)"
   ]
  },
  {
   "cell_type": "code",
   "execution_count": 108,
   "metadata": {},
   "outputs": [
    {
     "name": "stdout",
     "output_type": "stream",
     "text": [
      "The LCM is 216\n"
     ]
    }
   ],
   "source": [
    "#Python Program to Find the LCM\n",
    "def compute_lcm(x,y):\n",
    "    if x > y:\n",
    "        greater = x\n",
    "    else:\n",
    "        greater = y\n",
    "\n",
    "    while(True):\n",
    "        if((greater % x == 0) and (greater % y == 0)):\n",
    "            lcm = greater\n",
    "            break\n",
    "        greater += 1\n",
    "\n",
    "    return lcm\n",
    "\n",
    "num1=int(input(\"Enter the value of first number: \"))\n",
    "num2=int(input(\"Enter the value of the second number: \"))\n",
    "hcf=compute_lcm(num1,num2)\n",
    "print(\"The LCM is\", compute_lcm(num1,num2))"
   ]
  },
  {
   "cell_type": "code",
   "execution_count": 110,
   "metadata": {},
   "outputs": [
    {
     "name": "stdout",
     "output_type": "stream",
     "text": [
      "1\n",
      "3\n",
      "9\n"
     ]
    }
   ],
   "source": [
    "#Python Program to find the Factors of a Number\n",
    "num=int(input(\"Enter the value of the number: \"))\n",
    "for i in range(1,num+1):\n",
    "    if (num % i) == 0:\n",
    "        print(i)"
   ]
  },
  {
   "cell_type": "code",
   "execution_count": 2,
   "metadata": {},
   "outputs": [
    {
     "name": "stdout",
     "output_type": "stream",
     "text": [
      "Select the operation you want to perform. \n",
      "1.Add\n",
      "2.Substract\n",
      "3.Multiply\n",
      "4.Divide\n",
      "6.0 / 5.0 = 1.2\n"
     ]
    }
   ],
   "source": [
    "#Python Program to make a Simple Calculator\n",
    "def add(x,y):\n",
    "    return x + y\n",
    "def substract(x,y):\n",
    "    return x - y\n",
    "def multiply(x,y):\n",
    "    return x*y\n",
    "def divide(x,y):\n",
    "    return x/y\n",
    "\n",
    "print(\"Select the operation you want to perform. \")\n",
    "print(\"1.Add\")\n",
    "print(\"2.Substract\")\n",
    "print(\"3.Multiply\")\n",
    "print(\"4.Divide\")\n",
    "\n",
    "while True:\n",
    "    choice=input(\"Enter the choice(1/2/3/4): \")\n",
    "    if choice in ('1','2','3','4'):\n",
    "        try:\n",
    "            num1=float(input(\"Enter the first number: \"))\n",
    "            num2=float(input(\"Enter the second number: \"))\n",
    "        except ValueError:\n",
    "            print(\"INVALID INPUT. Please enter a number.\")\n",
    "            continue\n",
    "        if choice == '1':\n",
    "            print(num1,\"+\",num2,\"=\", add(num1,num2))\n",
    "        elif choice == '2':\n",
    "            print(num1, \"-\", num2, \"=\", substract(num1,num2))\n",
    "        elif choice == '3':\n",
    "            print(num1, \"*\", num2, \"=\", multiply(num1,num2))\n",
    "        elif choice == '4':\n",
    "            print(num1, \"/\", num2, \"=\", divide(num1,num2))\n",
    "        \n",
    "        next_calculation = input(\"Let's do the next caldulation? (yes/No): \")\n",
    "        if next_calculation == \"no\":\n",
    "            break\n",
    "    else:\n",
    "        print(\"Invalid Input\")\n",
    "        "
   ]
  },
  {
   "cell_type": "code",
   "execution_count": 5,
   "metadata": {},
   "outputs": [
    {
     "name": "stdout",
     "output_type": "stream",
     "text": [
      "You got: \n",
      "3 of Heart\n",
      "4 of Heart\n",
      "2 of Heart\n",
      "13 of Heart\n",
      "5 of Heart\n"
     ]
    }
   ],
   "source": [
    "#Python Program to shuffle a deck of card\n",
    "import itertools, random\n",
    "deck = list(itertools.product(range(1,14),['Spade','Heart','Diamond','Club']))\n",
    "random.shuffle(deck)\n",
    "print(\"You got: \")\n",
    "for i in range(5):\n",
    "    print(deck[i][0], \"of\", deck[1][1])"
   ]
  },
  {
   "cell_type": "code",
   "execution_count": 8,
   "metadata": {},
   "outputs": [
    {
     "name": "stdout",
     "output_type": "stream",
     "text": [
      "     June 1998\n",
      "Mo Tu We Th Fr Sa Su\n",
      " 1  2  3  4  5  6  7\n",
      " 8  9 10 11 12 13 14\n",
      "15 16 17 18 19 20 21\n",
      "22 23 24 25 26 27 28\n",
      "29 30\n",
      "\n"
     ]
    }
   ],
   "source": [
    "import calendar\n",
    "yy=int(input(\"Enter the value of the year: \"))\n",
    "mm=int(input(\"Enter the value of the month. \"))\n",
    "print(calendar.month(yy, mm))"
   ]
  },
  {
   "cell_type": "code",
   "execution_count": 18,
   "metadata": {},
   "outputs": [
    {
     "name": "stdout",
     "output_type": "stream",
     "text": [
      "Fibonacci Series:\n",
      "0,1,1,2,3,5,8,13,21,34,55,89,144,233,377,610,987,1597,2584,4181,6765,10946,17711,28657,46368,75025,121393,196418,317811,514229,"
     ]
    }
   ],
   "source": [
    "#Python Program to Display Fibonacci Sequence Using Recursion\n",
    "#Fibonacci Series = 0,1,1,2,3,5,8,13,21...\n",
    "#Print the Fibonacci Series upto a given number as given by user\n",
    "def recur_fibonacci(n):\n",
    "    if n<= 1:\n",
    "        return n\n",
    "    else:\n",
    "        return recur_fibonacci(n-1) + recur_fibonacci(n-2)\n",
    "    \n",
    "nterms=int(input(\"Enter the value of n upto which you want to print the Fibonacci Series: \"))\n",
    "if nterms <= 0:\n",
    "    print(\"Please enter the positive integer\")\n",
    "else:\n",
    "    print(\"Fibonacci Series:\")\n",
    "    for i in range(nterms):\n",
    "        print(recur_fibonacci(i),end=\",\")"
   ]
  },
  {
   "cell_type": "code",
   "execution_count": 20,
   "metadata": {},
   "outputs": [
    {
     "name": "stdout",
     "output_type": "stream",
     "text": [
      "The sum is  45\n"
     ]
    }
   ],
   "source": [
    "#Python Program to find the sum of Natural numbers using Recursion\n",
    "def sum_naturalnum(n):\n",
    "    if n<=1:\n",
    "        return n\n",
    "    else:\n",
    "        return n + sum_naturalnum(n-1)\n",
    "nterms=int(input(\"Enter the value of no. upto which you want the sum of the naturla numbers: \"))\n",
    "if nterms < 0:\n",
    "    print(\"Please Enter the positive number.\")\n",
    "else:\n",
    "    print(\"The sum is \",sum_naturalnum(nterms))  "
   ]
  },
  {
   "cell_type": "code",
   "execution_count": 22,
   "metadata": {},
   "outputs": [
    {
     "name": "stdout",
     "output_type": "stream",
     "text": [
      "The factorial is  5040\n"
     ]
    }
   ],
   "source": [
    "#Python Program to find the Factorial of Number using Recursion\n",
    "def factorial(n):\n",
    "    if n<=1:\n",
    "        return n\n",
    "    else:\n",
    "        return n * factorial(n-1)\n",
    "    \n",
    "num = int(input(\"Enter the value of num: \"))\n",
    "if num < 0 :\n",
    "    print(\"Factorial does not exist for the negative number\")\n",
    "elif num == 0:\n",
    "    print(\"The factorial of 0 is 1\")\n",
    "else:\n",
    "    print(\"The factorial is \",factorial(num))"
   ]
  },
  {
   "cell_type": "code",
   "execution_count": 25,
   "metadata": {},
   "outputs": [
    {
     "name": "stdout",
     "output_type": "stream",
     "text": [
      "The binary number is :  0b111\n"
     ]
    }
   ],
   "source": [
    "#Python Program to Convert Decimal to Binary Using recrusion\n",
    "def dec_to_bin(n):\n",
    "    if n == 0:\n",
    "        return n\n",
    "    else:\n",
    "        return bin(n)\n",
    "    \n",
    "dec=int(input(\"Enter the decimal numer which you want to convert to Binary: \"))\n",
    "if dec < 0:\n",
    "    print(\"Please Enter the positive number\")\n",
    "else:\n",
    "    print(\"The binary number is : \", dec_to_bin(dec))\n"
   ]
  },
  {
   "cell_type": "code",
   "execution_count": 27,
   "metadata": {},
   "outputs": [
    {
     "name": "stdout",
     "output_type": "stream",
     "text": [
      "100010\n"
     ]
    }
   ],
   "source": [
    "#2nd Way Python Program to Convert Decimal to Binary using recursion\n",
    "def convert2binary(n):\n",
    "    if n>1:\n",
    "        convert2binary(n//2)\n",
    "    print(n % 2,end='')\n",
    "dec=int(input(\"Enter the number to convert to the binary: \"))\n",
    "convert2binary(dec)\n",
    "print()"
   ]
  },
  {
   "cell_type": "code",
   "execution_count": 29,
   "metadata": {},
   "outputs": [
    {
     "name": "stdout",
     "output_type": "stream",
     "text": [
      "[10, 10, 10]\n",
      "[10, 10, 10]\n",
      "[10, 10, 10]\n"
     ]
    }
   ],
   "source": [
    "#Python Program to ADD two Matrices\n",
    "x=[[1,2,3],\n",
    "   [4,5,6],\n",
    "   [7,8,9]]\n",
    "\n",
    "y=[[9,8,7],\n",
    "   [6,5,4],\n",
    "   [3,2,1]]\n",
    "\n",
    "result=[[0,0,0],\n",
    "        [0,0,0],\n",
    "        [0,0,0]]\n",
    "\n",
    "for i in range(len(x)):\n",
    "    for j in range(len(x[0])):\n",
    "        result[i][j]=x[i][j]+y[i][j]\n",
    "for r in result:\n",
    "    print(r)"
   ]
  },
  {
   "cell_type": "code",
   "execution_count": 31,
   "metadata": {},
   "outputs": [
    {
     "name": "stdout",
     "output_type": "stream",
     "text": [
      "[1, 4, 9]\n",
      "[2, 5, 8]\n"
     ]
    }
   ],
   "source": [
    "#Python Program to Transpose a Matrix\n",
    "x=[[1,2],\n",
    "   [4,5],\n",
    "   [9,8]]\n",
    "transposex=[[0,0,0],\n",
    "            [0,0,0]]\n",
    "for i in range(len(x)):\n",
    "    for j in range(len(x[0])):\n",
    "        transposex[j][i]=x[i][j]\n",
    "\n",
    "for t in transposex:\n",
    "    print(t)"
   ]
  },
  {
   "cell_type": "code",
   "execution_count": 34,
   "metadata": {},
   "outputs": [
    {
     "name": "stdout",
     "output_type": "stream",
     "text": [
      "[62, 53]\n",
      "[106, 91]\n"
     ]
    }
   ],
   "source": [
    "#Python Program to Multiply two Matrices\n",
    "x=[[2,3,4],\n",
    "   [4,5,6]]\n",
    "\n",
    "y=[[9,8],\n",
    "   [8,7],\n",
    "   [5,4]]\n",
    "\n",
    "multiplyr=[[0,0],\n",
    "           [0,0]]\n",
    "\n",
    "for i in range(len(x)):\n",
    "    for j in range(len(y[0])):\n",
    "        for k in range(len(y)):\n",
    "            multiplyr[i][j] += x[i][k]*y[k][j]\n",
    "for i in multiplyr:\n",
    "    print(i)"
   ]
  },
  {
   "cell_type": "code",
   "execution_count": 36,
   "metadata": {},
   "outputs": [
    {
     "name": "stdout",
     "output_type": "stream",
     "text": [
      "Given String is not Palindrome.\n"
     ]
    }
   ],
   "source": [
    "#Python Program to check whether a string is Palindrome or NOT\n",
    "str1=input(\"Enter the value of the String: \")\n",
    "str1=str1.casefold()\n",
    "rev_str1=reversed(str1)\n",
    "if list(str1) == list(rev_str1):\n",
    "    print(\"The given string is Palindrome.\")\n",
    "else:\n",
    "    print(\"Given String is not Palindrome.\")"
   ]
  },
  {
   "cell_type": "code",
   "execution_count": 38,
   "metadata": {},
   "outputs": [
    {
     "name": "stdout",
     "output_type": "stream",
     "text": [
      "No, the given string is not Palindrome.\n"
     ]
    }
   ],
   "source": [
    "#2nd way Python Program to check whether a string is Palindrome or not\n",
    "def isPalindrome(s):\n",
    "    return s == s[::-1]\n",
    "s=input(\"Enter the value of the string.\")\n",
    "res=isPalindrome(s)\n",
    "\n",
    "if res:\n",
    "    print(\"Yes, given string is Palindrome.\")\n",
    "else:\n",
    "    print(\"No, the given string is not Palindrome.\")"
   ]
  },
  {
   "cell_type": "code",
   "execution_count": 41,
   "metadata": {},
   "outputs": [
    {
     "name": "stdout",
     "output_type": "stream",
     "text": [
      "lyl\n"
     ]
    }
   ],
   "source": [
    "#Python Program to Remove Punctuations from a string\n",
    "punctuations=\"''!()-[]{}:;',<>.||/?@#$%^&*__~`\"\n",
    "my_str=input(\"Enter the value of the string.\")\n",
    "no_punct=\"\"\n",
    "for char in my_str:\n",
    "    if char not in punctuations:\n",
    "        no_punct += char\n",
    "\n",
    "print(no_punct)"
   ]
  },
  {
   "cell_type": "code",
   "execution_count": 43,
   "metadata": {},
   "outputs": [
    {
     "name": "stdout",
     "output_type": "stream",
     "text": [
      "The sorted words are: \n",
      "am\n",
      "anything\n",
      "can\n",
      "do\n",
      "i\n",
      "i\n",
      "i\n",
      "in\n",
      "in\n",
      "life.\n",
      "life.\n",
      "most\n",
      "my\n",
      "my\n",
      "own\n",
      "person\n",
      "powerful\n",
      "the\n",
      "want\n"
     ]
    }
   ],
   "source": [
    "#Python Program to sort words in Alphabetic order\n",
    "my_str=input(\"Enter the value of the string you want to sort alphabetically: \")\n",
    "words=[word.lower() for word in my_str.split()]\n",
    "words.sort()\n",
    "print(\"The sorted words are: \")\n",
    "for word in words:\n",
    "    print(word)"
   ]
  },
  {
   "cell_type": "code",
   "execution_count": 1,
   "metadata": {},
   "outputs": [
    {
     "name": "stdout",
     "output_type": "stream",
     "text": [
      "akanksha am anything can do great her i in life the who\n"
     ]
    }
   ],
   "source": [
    "#2nd Way Program to sort alphabetically the words from a string\n",
    "def F(s):\n",
    "    W=s.split(\" \")\n",
    "    for i in range(len(W)):\n",
    "        W[i]=W[i].lower()\n",
    "    W.sort()\n",
    "    return ' '.join(W)\n",
    "\n",
    "s = \"I am Akanksha the great who can do anything in her life\"\n",
    "print(F(s))"
   ]
  },
  {
   "cell_type": "code",
   "execution_count": 4,
   "metadata": {},
   "outputs": [
    {
     "name": "stdout",
     "output_type": "stream",
     "text": [
      "Akanksha anything can do great her in life. the\n"
     ]
    }
   ],
   "source": [
    "def custom_sort(words):\n",
    "    #use of basic bubble sort algorithm\n",
    "    for i in range(len(words)):\n",
    "        for j in range(0, len(words)-i-1):\n",
    "            if words[j] > words[j+1]:\n",
    "                words[j], words[j+1] = words[j+1],words[j]\n",
    "    return words\n",
    "\n",
    "def sort_string_alphabetically(input_string):\n",
    "    #split the string into words\n",
    "    words = input_string.split()\n",
    "    sorted_words=custom_sort(words)\n",
    "    return ' '.join(sorted_words)\n",
    "\n",
    "input_string=\"Akanksha the great can do anything in her life.\"\n",
    "sorted_string=sort_string_alphabetically(input_string)\n",
    "print(sorted_string)\n"
   ]
  },
  {
   "cell_type": "code",
   "execution_count": 6,
   "metadata": {},
   "outputs": [
    {
     "name": "stdout",
     "output_type": "stream",
     "text": [
      "Union of A and B is {0, 1, 2, 3, 4, 5, 6, 8}\n",
      "Intersection of A and B {2, 4}\n",
      "Difference of A and B is {0, 8, 6}\n",
      "Symmetric difference of A and B {0, 1, 3, 5, 6, 8}\n"
     ]
    }
   ],
   "source": [
    "#Python Program to illustrate Different Set Operations\n",
    "A = {0,2,4,6,8};\n",
    "B = {1,2,3,4,5};\n",
    "\n",
    "#set union\n",
    "print(\"Union of A and B is\",A|B)\n",
    "\n",
    "#set interaction\n",
    "print(\"Intersection of A and B\", A&B)\n",
    "\n",
    "#set difference\n",
    "print(\"Difference of A and B is\", A-B)\n",
    "\n",
    "#set symmetric difference\n",
    "print(\"Symmetric difference of A and B\", A^B)"
   ]
  },
  {
   "cell_type": "code",
   "execution_count": 15,
   "metadata": {},
   "outputs": [
    {
     "name": "stdout",
     "output_type": "stream",
     "text": [
      "{'a': 6, 'e': 2, 'i': 2, 'o': 1, 'u': 0}\n"
     ]
    }
   ],
   "source": [
    "#Python Prgram to count the number of each vowel\n",
    "def count_vowels(input_string):\n",
    "    vowels_count={'a':0,'e':0,'i':0,'o':0,'u':0}\n",
    "    input_string=input_string.lower()\n",
    "    for char in input_string:\n",
    "        if char in vowels_count:\n",
    "            vowels_count[char] += 1\n",
    "    return vowels_count\n",
    "\n",
    "input_string = \"Akanksha is the best and can do anything.\"\n",
    "vowels_count=count_vowels(input_string)\n",
    "print(vowels_count)"
   ]
  },
  {
   "cell_type": "code",
   "execution_count": 23,
   "metadata": {},
   "outputs": [
    {
     "name": "stdout",
     "output_type": "stream",
     "text": [
      "8\n"
     ]
    }
   ],
   "source": [
    "#2nd way to find the count of all vowels at once\n",
    "def count_vowel(input_string):\n",
    "    count=0\n",
    "    input_string=input_string.lower()\n",
    "    vowels=\"aeiou\"\n",
    "    for char in input_string:\n",
    "        if char in vowels:\n",
    "                count += 1\n",
    "    return count\n",
    "str1=input(\"Enter the value of the stirng: \")\n",
    "print(count_vowel(str1))"
   ]
  },
  {
   "cell_type": "code",
   "execution_count": 25,
   "metadata": {},
   "outputs": [
    {
     "ename": "FileNotFoundError",
     "evalue": "[Errno 2] No such file or directory: 'names.txt'",
     "output_type": "error",
     "traceback": [
      "\u001b[1;31m---------------------------------------------------------------------------\u001b[0m",
      "\u001b[1;31mFileNotFoundError\u001b[0m                         Traceback (most recent call last)",
      "Cell \u001b[1;32mIn[25], line 5\u001b[0m\n\u001b[0;32m      1\u001b[0m \u001b[38;5;66;03m#Python Program to Merge Mails\u001b[39;00m\n\u001b[0;32m      2\u001b[0m \u001b[38;5;66;03m#Python Program to mail merger. Names are in the file names.txt\u001b[39;00m\n\u001b[0;32m      3\u001b[0m \u001b[38;5;66;03m#Body of the mail in the file body.txt\u001b[39;00m\n\u001b[0;32m      4\u001b[0m \u001b[38;5;66;03m#open names.txt for reading\u001b[39;00m\n\u001b[1;32m----> 5\u001b[0m \u001b[38;5;28;01mwith\u001b[39;00m \u001b[38;5;28;43mopen\u001b[39;49m\u001b[43m(\u001b[49m\u001b[38;5;124;43m\"\u001b[39;49m\u001b[38;5;124;43mnames.txt\u001b[39;49m\u001b[38;5;124;43m\"\u001b[39;49m\u001b[43m,\u001b[49m\u001b[38;5;124;43m'\u001b[39;49m\u001b[38;5;124;43mr\u001b[39;49m\u001b[38;5;124;43m'\u001b[39;49m\u001b[43m,\u001b[49m\u001b[43m \u001b[49m\u001b[43mencoding\u001b[49m\u001b[38;5;241;43m=\u001b[39;49m\u001b[38;5;124;43m'\u001b[39;49m\u001b[38;5;124;43mutf8\u001b[39;49m\u001b[38;5;124;43m'\u001b[39;49m\u001b[43m)\u001b[49m \u001b[38;5;28;01mas\u001b[39;00m names_file:\n\u001b[0;32m      6\u001b[0m \n\u001b[0;32m      7\u001b[0m     \u001b[38;5;66;03m#open body.txt for reading\u001b[39;00m\n\u001b[0;32m      8\u001b[0m     \u001b[38;5;28;01mwith\u001b[39;00m \u001b[38;5;28mopen\u001b[39m(\u001b[38;5;124m\"\u001b[39m\u001b[38;5;124mbody.txt\u001b[39m\u001b[38;5;124m\"\u001b[39m, \u001b[38;5;124m'\u001b[39m\u001b[38;5;124mr\u001b[39m\u001b[38;5;124m'\u001b[39m, encoding\u001b[38;5;241m=\u001b[39m\u001b[38;5;124m'\u001b[39m\u001b[38;5;124mutf-8\u001b[39m\u001b[38;5;124m'\u001b[39m) \u001b[38;5;28;01mas\u001b[39;00m body_file:\n\u001b[0;32m      9\u001b[0m \n\u001b[0;32m     10\u001b[0m         \u001b[38;5;66;03m#read entire content of the body\u001b[39;00m\n\u001b[0;32m     11\u001b[0m         body\u001b[38;5;241m=\u001b[39mbody_file\u001b[38;5;241m.\u001b[39mread()\n",
      "File \u001b[1;32m~\\AppData\\Roaming\\Python\\Python312\\site-packages\\IPython\\core\\interactiveshell.py:324\u001b[0m, in \u001b[0;36m_modified_open\u001b[1;34m(file, *args, **kwargs)\u001b[0m\n\u001b[0;32m    317\u001b[0m \u001b[38;5;28;01mif\u001b[39;00m file \u001b[38;5;129;01min\u001b[39;00m {\u001b[38;5;241m0\u001b[39m, \u001b[38;5;241m1\u001b[39m, \u001b[38;5;241m2\u001b[39m}:\n\u001b[0;32m    318\u001b[0m     \u001b[38;5;28;01mraise\u001b[39;00m \u001b[38;5;167;01mValueError\u001b[39;00m(\n\u001b[0;32m    319\u001b[0m         \u001b[38;5;124mf\u001b[39m\u001b[38;5;124m\"\u001b[39m\u001b[38;5;124mIPython won\u001b[39m\u001b[38;5;124m'\u001b[39m\u001b[38;5;124mt let you open fd=\u001b[39m\u001b[38;5;132;01m{\u001b[39;00mfile\u001b[38;5;132;01m}\u001b[39;00m\u001b[38;5;124m by default \u001b[39m\u001b[38;5;124m\"\u001b[39m\n\u001b[0;32m    320\u001b[0m         \u001b[38;5;124m\"\u001b[39m\u001b[38;5;124mas it is likely to crash IPython. If you know what you are doing, \u001b[39m\u001b[38;5;124m\"\u001b[39m\n\u001b[0;32m    321\u001b[0m         \u001b[38;5;124m\"\u001b[39m\u001b[38;5;124myou can use builtins\u001b[39m\u001b[38;5;124m'\u001b[39m\u001b[38;5;124m open.\u001b[39m\u001b[38;5;124m\"\u001b[39m\n\u001b[0;32m    322\u001b[0m     )\n\u001b[1;32m--> 324\u001b[0m \u001b[38;5;28;01mreturn\u001b[39;00m \u001b[43mio_open\u001b[49m\u001b[43m(\u001b[49m\u001b[43mfile\u001b[49m\u001b[43m,\u001b[49m\u001b[43m \u001b[49m\u001b[38;5;241;43m*\u001b[39;49m\u001b[43margs\u001b[49m\u001b[43m,\u001b[49m\u001b[43m \u001b[49m\u001b[38;5;241;43m*\u001b[39;49m\u001b[38;5;241;43m*\u001b[39;49m\u001b[43mkwargs\u001b[49m\u001b[43m)\u001b[49m\n",
      "\u001b[1;31mFileNotFoundError\u001b[0m: [Errno 2] No such file or directory: 'names.txt'"
     ]
    }
   ],
   "source": [
    "#Python Program to Merge Mails\n",
    "#Python Program to mail merger. Names are in the file names.txt\n",
    "#Body of the mail in the file body.txt\n",
    "#open names.txt for reading\n",
    "with open(\"names.txt\",'r', encoding='utf8') as names_file:\n",
    "\n",
    "    #open body.txt for reading\n",
    "    with open(\"body.txt\", 'r', encoding='utf-8') as body_file:\n",
    "\n",
    "        #read entire content of the body\n",
    "        body=body_file.read()\n",
    "\n",
    "        #iterate over names\n",
    "        for name in names_file:\n",
    "            mail=\"Hello\"+name.strip()+\"\\n\"+body\n",
    "\n",
    "            #write the mails to individual files\n",
    "            with open(name.strip()+\".txt\",'w',encoding='utf-8') as mail_file:\n",
    "                mail_file.write(mail)"
   ]
  },
  {
   "cell_type": "code",
   "execution_count": 27,
   "metadata": {},
   "outputs": [
    {
     "name": "stdout",
     "output_type": "stream",
     "text": [
      "The 2nd largest number is : 9\n"
     ]
    }
   ],
   "source": [
    "#Given a list of repeated and variable numbers and question is to print the 2nd largest number of the given list:\n",
    "#A=[1,2,3,9,9,8,7,8,6,7,9,10,4,3,3,4,5,5,10,10]\n",
    "#'first_largest' and 'second_largest' is set to negative infinity initially, to ensure any number in the list will be larger\n",
    "#\"Single Pass Linear Search\" or \"Two Largest number Algorithm\" or \"Two Pointer Technique\" Algorithm is used\n",
    "#The list is traversed only once, making the time complexity O(n)\n",
    "#Two Pointers/Trackers: The algorithm maintain two variables to keep track of two largest numbers encountered during the traversal\n",
    "\n",
    "\n",
    "def second_largest_number(nums):\n",
    "    first_largest=float('-inf')\n",
    "    second_largest=float('-inf')\n",
    "\n",
    "    for num in nums:\n",
    "        if num > first_largest:\n",
    "            second_largest=first_largest\n",
    "            first_largest=num\n",
    "        elif num > second_largest and num != first_largest:\n",
    "            second_largest = num\n",
    "    \n",
    "    if second_largest == float('inf'):\n",
    "        return None\n",
    "    else:\n",
    "        return second_largest\n",
    "    \n",
    "A=[1,2,3,9,9,8,7,8,6,7,9,10,4,3,3,4,5,5,10,10]\n",
    "second_largest = second_largest_number(A)\n",
    "if second_largest != None:\n",
    "    print(f\"The 2nd largest number is : {second_largest}\")\n",
    "\n",
    "else:\n",
    "    print(\"There is no second largest number.\")"
   ]
  },
  {
   "cell_type": "code",
   "execution_count": 33,
   "metadata": {},
   "outputs": [
    {
     "name": "stdout",
     "output_type": "stream",
     "text": [
      "Sorted List:  [1, 1, 2, 3, 6, 8, 10]\n"
     ]
    }
   ],
   "source": [
    "def quicksort(arr):\n",
    "    if len(arr) <= 1:\n",
    "        return arr\n",
    "    else:\n",
    "        pivot = arr[len(arr)//2]\n",
    "        left = [x for x in arr if x < pivot]\n",
    "        middle = [x for x in arr if x == pivot]\n",
    "        right = [x for x in arr if x > pivot]\n",
    "\n",
    "        return quicksort(left) + middle +quicksort(right)\n",
    "    \n",
    "A = [3,6,8,10,1,2,1]\n",
    "sorted_A = quicksort(A)\n",
    "print(\"Sorted List: \", sorted_A)\n",
    "\n"
   ]
  },
  {
   "cell_type": "code",
   "execution_count": 6,
   "metadata": {},
   "outputs": [
    {
     "name": "stdout",
     "output_type": "stream",
     "text": [
      "Name: Akanksha\n",
      "skill: Python\n",
      "Band Id: E1.1\n"
     ]
    }
   ],
   "source": [
    "#Python Program to iterate over dictonaries using for loop\n",
    "dt = {'Name:':'Akanksha','skill:':'Python', 'Band Id:':'E1.1'}\n",
    "for key,value in dt.items():\n",
    "    print(key,value)"
   ]
  },
  {
   "cell_type": "code",
   "execution_count": 9,
   "metadata": {},
   "outputs": [
    {
     "name": "stdout",
     "output_type": "stream",
     "text": [
      "{6: 3, 5: 4, 1: 6}\n",
      "[3, 4, 6]\n"
     ]
    }
   ],
   "source": [
    "#Python Program to sort a Dictionary by value\n",
    "#sort the dictionary based on values\n",
    "dt={5:4, 1:6, 6:3}\n",
    "sorted_dt={key: value for key,value in sorted(dt.items(), key=lambda item: item[1])}\n",
    "print(sorted_dt)\n",
    "\n",
    "#Sort only the values\n",
    "dt={5:4, 1:6, 6:3}\n",
    "sorted_dt_value = sorted(dt.values())\n",
    "print(sorted_dt_value)"
   ]
  },
  {
   "cell_type": "code",
   "execution_count": 11,
   "metadata": {},
   "outputs": [
    {
     "name": "stdout",
     "output_type": "stream",
     "text": [
      "The List is empty.\n",
      "The given List is empty.\n",
      "The List is empty\n"
     ]
    }
   ],
   "source": [
    "#Python Program to check if a List is Empty\n",
    "# 1.Using Boolean Operation\n",
    "my_list = []\n",
    "if not my_list:\n",
    "    print(\"The List is empty.\")\n",
    "\n",
    "#Using len()\n",
    "my_list=[]\n",
    "if not len(my_list):\n",
    "    print(\"The given List is empty.\")\n",
    "\n",
    "#Comparing with []\n",
    "my_list=[]\n",
    "if my_list == []:\n",
    "    print('The List is empty')\n"
   ]
  },
  {
   "cell_type": "code",
   "execution_count": 15,
   "metadata": {},
   "outputs": [
    {
     "name": "stdout",
     "output_type": "stream",
     "text": [
      "invalid literal for int() with base 10: 'kk'\n"
     ]
    }
   ],
   "source": [
    "#Python Program to catch Multiple Exceptions in one Line\n",
    "string = input(\"Enter the value of the string: \")\n",
    "try:\n",
    "    num = int(input(\"Enter the value of the Integer: \"))\n",
    "    print(string + sum)\n",
    "except (TypeError, ValueError) as e:\n",
    "    print(e)"
   ]
  },
  {
   "cell_type": "code",
   "execution_count": 16,
   "metadata": {},
   "outputs": [
    {
     "ename": "FileNotFoundError",
     "evalue": "[Errno 2] No such file or directory: '/root/a.text'",
     "output_type": "error",
     "traceback": [
      "\u001b[1;31m---------------------------------------------------------------------------\u001b[0m",
      "\u001b[1;31mFileNotFoundError\u001b[0m                         Traceback (most recent call last)",
      "Cell \u001b[1;32mIn[16], line 3\u001b[0m\n\u001b[0;32m      1\u001b[0m \u001b[38;5;66;03m#Python Program to copy a file\u001b[39;00m\n\u001b[0;32m      2\u001b[0m \u001b[38;5;28;01mfrom\u001b[39;00m \u001b[38;5;21;01mshutil\u001b[39;00m \u001b[38;5;28;01mimport\u001b[39;00m copyfile\n\u001b[1;32m----> 3\u001b[0m \u001b[43mcopyfile\u001b[49m\u001b[43m(\u001b[49m\u001b[38;5;124;43m\"\u001b[39;49m\u001b[38;5;124;43m/root/a.text\u001b[39;49m\u001b[38;5;124;43m\"\u001b[39;49m\u001b[43m,\u001b[49m\u001b[43m \u001b[49m\u001b[38;5;124;43m\"\u001b[39;49m\u001b[38;5;124;43m/root/b.txt\u001b[39;49m\u001b[38;5;124;43m\"\u001b[39;49m\u001b[43m)\u001b[49m\n",
      "File \u001b[1;32mc:\\Program Files\\Python312\\Lib\\shutil.py:260\u001b[0m, in \u001b[0;36mcopyfile\u001b[1;34m(src, dst, follow_symlinks)\u001b[0m\n\u001b[0;32m    258\u001b[0m     os\u001b[38;5;241m.\u001b[39msymlink(os\u001b[38;5;241m.\u001b[39mreadlink(src), dst)\n\u001b[0;32m    259\u001b[0m \u001b[38;5;28;01melse\u001b[39;00m:\n\u001b[1;32m--> 260\u001b[0m     \u001b[38;5;28;01mwith\u001b[39;00m \u001b[38;5;28;43mopen\u001b[39;49m\u001b[43m(\u001b[49m\u001b[43msrc\u001b[49m\u001b[43m,\u001b[49m\u001b[43m \u001b[49m\u001b[38;5;124;43m'\u001b[39;49m\u001b[38;5;124;43mrb\u001b[39;49m\u001b[38;5;124;43m'\u001b[39;49m\u001b[43m)\u001b[49m \u001b[38;5;28;01mas\u001b[39;00m fsrc:\n\u001b[0;32m    261\u001b[0m         \u001b[38;5;28;01mtry\u001b[39;00m:\n\u001b[0;32m    262\u001b[0m             \u001b[38;5;28;01mwith\u001b[39;00m \u001b[38;5;28mopen\u001b[39m(dst, \u001b[38;5;124m'\u001b[39m\u001b[38;5;124mwb\u001b[39m\u001b[38;5;124m'\u001b[39m) \u001b[38;5;28;01mas\u001b[39;00m fdst:\n\u001b[0;32m    263\u001b[0m                 \u001b[38;5;66;03m# macOS\u001b[39;00m\n",
      "\u001b[1;31mFileNotFoundError\u001b[0m: [Errno 2] No such file or directory: '/root/a.text'"
     ]
    }
   ],
   "source": [
    "#Python Program to copy a file\n",
    "from shutil import copyfile\n",
    "copyfile(\"/root/a.text\", \"/root/b.txt\")"
   ]
  },
  {
   "cell_type": "code",
   "execution_count": 23,
   "metadata": {},
   "outputs": [
    {
     "name": "stdout",
     "output_type": "stream",
     "text": [
      "[1, 2, 3, 4, 6, 7, 8, 9]\n",
      "[0, 9, 8, 7, 6, 1, 2, 3, 4, 5]\n",
      "[1, 'a', 2, 3]\n",
      "[0, 1, 2, 3, 4, 5, 'a', 7, 8, 9, 6]\n",
      "[9, 8, 7, 6, 1, 2, 3, 'j']\n"
     ]
    }
   ],
   "source": [
    "#Python Program to Concatenate two Lists\n",
    "a=[1,2,3,4]\n",
    "b=[6,7,8,9]\n",
    "print(a+b)\n",
    "\n",
    "#1.Python Program to concatenate two Lists Using + operator\n",
    "list_1 = [0,9,8,7,6]\n",
    "list_2 = [1,2,3,4,5]\n",
    "\n",
    "list_joined=list_1 + list_2\n",
    "print(list_joined)\n",
    "\n",
    "#2. Using iterable unpacking operator *\n",
    "list_1 = [1,'a']\n",
    "list_2 = range(2,4)\n",
    "list_joined = [*list_1,*list_2]\n",
    "print(list_joined)\n",
    "\n",
    "#3. With unique values\n",
    "list_1=[1,2,3,4,5,'a']\n",
    "list_2=[0,9,8,7,6]\n",
    "list_joined = list(set(list_1 + list_2))\n",
    "print(list_joined)\n",
    "\n",
    "#4. Using extend()\n",
    "list_1 = [1,2,3,'j']\n",
    "list_2 = [9,8,7,6]\n",
    "list_2.extend(list_1)\n",
    "print(list_2)"
   ]
  },
  {
   "cell_type": "code",
   "execution_count": 30,
   "metadata": {},
   "outputs": [
    {
     "name": "stdout",
     "output_type": "stream",
     "text": [
      "[[1, 2], [3, 4], [5, 6], [7, 8], [9]]\n",
      "=========================================================\n",
      "[[1, 2], [3, 4], [5, 6], [7, 8], [9]]\n"
     ]
    }
   ],
   "source": [
    "#Python Program to split a list into evenly sized chunks\n",
    "def split(list_a, chunk_size):\n",
    "    for i in range(0, len(list_a), chunk_size):\n",
    "        yield list_a[i:i+chunk_size]\n",
    "chunk_size =2\n",
    "my_list = [1,2,3,4,5,6,7,8,9]\n",
    "print(list(split(my_list, chunk_size)))\n",
    "print(\"=========================================================\")\n",
    "def split(list_a, chunk_size):\n",
    "\n",
    "  for i in range(0, len(list_a), chunk_size):\n",
    "    yield list_a[i:i + chunk_size]\n",
    "\n",
    "chunk_size = 2\n",
    "my_list = [1,2,3,4,5,6,7,8,9]\n",
    "print(list(split(my_list, chunk_size)))"
   ]
  },
  {
   "cell_type": "code",
   "execution_count": 34,
   "metadata": {},
   "outputs": [
    {
     "name": "stdout",
     "output_type": "stream",
     "text": [
      "The value of the missing number is: 8\n"
     ]
    }
   ],
   "source": [
    "#You are given an array of n positive numbers such that 0<= a[i] <= N , you have to find the number and print it which is missing in the array a.\n",
    "\t#For example: \n",
    "\t#Given Array : A=[9,7,10,6,4,2,1,3,5]\n",
    "\t#\t\tN = 10\n",
    "\t#\t\tAs we can see in the above example, the value 8 is missing therefore we need to print that\n",
    "\n",
    "def find_missing_number(A,N):\n",
    "    expected_sum= N * (N+1) //2\n",
    "    actual_sum=sum(A)\n",
    "    missing_number=expected_sum - actual_sum\n",
    "    return missing_number\n",
    "\n",
    "A = [1,2,3,4,5,9,10,7,6]\n",
    "N = 10\n",
    "missing_number=find_missing_number(A,N)\n",
    "print(f\"The value of the missing number is: {missing_number}\")"
   ]
  },
  {
   "cell_type": "code",
   "execution_count": 35,
   "metadata": {},
   "outputs": [
    {
     "name": "stdout",
     "output_type": "stream",
     "text": [
      "7\n"
     ]
    }
   ],
   "source": [
    "#Python program to find the toltal number of pairs of different characters\n",
    "def count_AG_pairs(s):\n",
    "    count_A=0\n",
    "    count_pair=0\n",
    "    for char in s:\n",
    "        if char == 'A':\n",
    "            count_A += 1\n",
    "        elif char == 'G':\n",
    "            count_pair += count_A\n",
    "    return count_pair\n",
    "str1='AMPGAMGGNG'\n",
    "res=count_AG_pairs(str1)\n",
    "print(res)"
   ]
  },
  {
   "cell_type": "code",
   "execution_count": 37,
   "metadata": {},
   "outputs": [
    {
     "ename": "FileNotFoundError",
     "evalue": "[Errno 2] No such file or directory: 'img1.jpg'",
     "output_type": "error",
     "traceback": [
      "\u001b[1;31m---------------------------------------------------------------------------\u001b[0m",
      "\u001b[1;31mFileNotFoundError\u001b[0m                         Traceback (most recent call last)",
      "Cell \u001b[1;32mIn[37], line 17\u001b[0m\n\u001b[0;32m     15\u001b[0m         width \u001b[38;5;241m-\u001b[39m (a[\u001b[38;5;241m0\u001b[39m] \u001b[38;5;241m<<\u001b[39m \u001b[38;5;241m8\u001b[39m) \u001b[38;5;241m+\u001b[39m a[\u001b[38;5;241m1\u001b[39m]\n\u001b[0;32m     16\u001b[0m     \u001b[38;5;28mprint\u001b[39m(\u001b[38;5;124m\"\u001b[39m\u001b[38;5;124mThe resolution of the image is\u001b[39m\u001b[38;5;124m\"\u001b[39m,width,\u001b[38;5;124m\"\u001b[39m\u001b[38;5;124mx\u001b[39m\u001b[38;5;124m\"\u001b[39m,height)\n\u001b[1;32m---> 17\u001b[0m \u001b[43mjpeg_res\u001b[49m\u001b[43m(\u001b[49m\u001b[38;5;124;43m\"\u001b[39;49m\u001b[38;5;124;43mimg1.jpg\u001b[39;49m\u001b[38;5;124;43m\"\u001b[39;49m\u001b[43m)\u001b[49m\n",
      "Cell \u001b[1;32mIn[37], line 5\u001b[0m, in \u001b[0;36mjpeg_res\u001b[1;34m(filename)\u001b[0m\n\u001b[0;32m      3\u001b[0m \u001b[38;5;250m\u001b[39m\u001b[38;5;124;03m\"\"\"This function prints the reolution of the jepg image file passed into it\"\"\"\u001b[39;00m\n\u001b[0;32m      4\u001b[0m \u001b[38;5;66;03m#open image for the reading in binary mode\u001b[39;00m\n\u001b[1;32m----> 5\u001b[0m \u001b[38;5;28;01mwith\u001b[39;00m \u001b[38;5;28;43mopen\u001b[39;49m\u001b[43m(\u001b[49m\u001b[43mfilename\u001b[49m\u001b[43m,\u001b[49m\u001b[38;5;124;43m'\u001b[39;49m\u001b[38;5;124;43mrb\u001b[39;49m\u001b[38;5;124;43m'\u001b[39;49m\u001b[43m)\u001b[49m \u001b[38;5;28;01mas\u001b[39;00m img_file:\n\u001b[0;32m      6\u001b[0m     \u001b[38;5;66;03m#height of the image(in 2 bytes)is at 164th position\u001b[39;00m\n\u001b[0;32m      7\u001b[0m     img_file\u001b[38;5;241m.\u001b[39mseek(\u001b[38;5;241m163\u001b[39m)\n\u001b[0;32m      8\u001b[0m     \u001b[38;5;66;03m#read the 2 bytes\u001b[39;00m\n",
      "File \u001b[1;32m~\\AppData\\Roaming\\Python\\Python312\\site-packages\\IPython\\core\\interactiveshell.py:324\u001b[0m, in \u001b[0;36m_modified_open\u001b[1;34m(file, *args, **kwargs)\u001b[0m\n\u001b[0;32m    317\u001b[0m \u001b[38;5;28;01mif\u001b[39;00m file \u001b[38;5;129;01min\u001b[39;00m {\u001b[38;5;241m0\u001b[39m, \u001b[38;5;241m1\u001b[39m, \u001b[38;5;241m2\u001b[39m}:\n\u001b[0;32m    318\u001b[0m     \u001b[38;5;28;01mraise\u001b[39;00m \u001b[38;5;167;01mValueError\u001b[39;00m(\n\u001b[0;32m    319\u001b[0m         \u001b[38;5;124mf\u001b[39m\u001b[38;5;124m\"\u001b[39m\u001b[38;5;124mIPython won\u001b[39m\u001b[38;5;124m'\u001b[39m\u001b[38;5;124mt let you open fd=\u001b[39m\u001b[38;5;132;01m{\u001b[39;00mfile\u001b[38;5;132;01m}\u001b[39;00m\u001b[38;5;124m by default \u001b[39m\u001b[38;5;124m\"\u001b[39m\n\u001b[0;32m    320\u001b[0m         \u001b[38;5;124m\"\u001b[39m\u001b[38;5;124mas it is likely to crash IPython. If you know what you are doing, \u001b[39m\u001b[38;5;124m\"\u001b[39m\n\u001b[0;32m    321\u001b[0m         \u001b[38;5;124m\"\u001b[39m\u001b[38;5;124myou can use builtins\u001b[39m\u001b[38;5;124m'\u001b[39m\u001b[38;5;124m open.\u001b[39m\u001b[38;5;124m\"\u001b[39m\n\u001b[0;32m    322\u001b[0m     )\n\u001b[1;32m--> 324\u001b[0m \u001b[38;5;28;01mreturn\u001b[39;00m \u001b[43mio_open\u001b[49m\u001b[43m(\u001b[49m\u001b[43mfile\u001b[49m\u001b[43m,\u001b[49m\u001b[43m \u001b[49m\u001b[38;5;241;43m*\u001b[39;49m\u001b[43margs\u001b[49m\u001b[43m,\u001b[49m\u001b[43m \u001b[49m\u001b[38;5;241;43m*\u001b[39;49m\u001b[38;5;241;43m*\u001b[39;49m\u001b[43mkwargs\u001b[49m\u001b[43m)\u001b[49m\n",
      "\u001b[1;31mFileNotFoundError\u001b[0m: [Errno 2] No such file or directory: 'img1.jpg'"
     ]
    }
   ],
   "source": [
    "#Python Program to find the size (resolution) of an image\n",
    "def jpeg_res(filename):\n",
    "    \"\"\"This function prints the reolution of the jepg image file passed into it\"\"\"\n",
    "    #open image for the reading in binary mode\n",
    "    with open(filename,'rb') as img_file:\n",
    "        #height of the image(in 2 bytes)is at 164th position\n",
    "        img_file.seek(163)\n",
    "        #read the 2 bytes\n",
    "        a=img_file.read(2)\n",
    "        #calculate height\n",
    "        height = (a[0] << 8) + a[1]\n",
    "        #next 2 bytes in width\n",
    "        a=img_file.read(2)\n",
    "        #calculate width\n",
    "        width - (a[0] << 8) + a[1]\n",
    "    print(\"The resolution of the image is\",width,\"x\",height)\n",
    "jpeg_res(\"img1.jpg\")"
   ]
  },
  {
   "cell_type": "code",
   "execution_count": 38,
   "metadata": {},
   "outputs": [],
   "source": [
    "#Python Program to Find Hash of the File\n",
    "#Python Program to find the SHA-1 message digest of a file\n",
    "#importing the hashlib module\n",
    "import hashlib\n",
    "def hash_file(filename):\n",
    "    \"\"\"This function returns the SHA-1 hash of the file passed into it\"\"\"\n",
    "    #make a hash object\n",
    "    h=hashlib.sha1()\n",
    "    #open file for reading in binary mode\n",
    "    with open(filename,'rb') as file:\n",
    "        #loop till the end of the file\n",
    "        chunk = 0\n",
    "        while chunk != b'':\n",
    "            #read only 1024 bytes at a time\n",
    "            chunk = file.read(1024)\n",
    "            h.update(chunk)\n",
    "    #return the hex representation of the digest\n",
    "    return h.hexdigest()\n",
    "    message = hash_file(\"track1.mp3\")\n",
    "    print(message)"
   ]
  },
  {
   "cell_type": "code",
   "execution_count": 39,
   "metadata": {},
   "outputs": [],
   "source": [
    "#Python Program to Find Hash of the File\n",
    "#Python Program to find the SHA-1 message digest of a file\n",
    "#importing the hashlib module\n",
    "import hashlib\n",
    "def hash_file(filename):\n",
    "    \"\"\"This function returns the SHA-1 hash of the file passed into it\"\"\"\n",
    "    #make a hash object\n",
    "    h=hashlib.sha1()\n",
    "    #open file for reading in binary mode\n",
    "    with open(filename,'rb') as file:\n",
    "        #loop till the end of the file\n",
    "        chunk = 0\n",
    "        while chunk != b'':\n",
    "            #read only 1024 bytes at a time\n",
    "            chunk = file.read(1024)\n",
    "            h.update(chunk)\n",
    "    #return the hex representation of the digest\n",
    "    return h.hexdigest()\n",
    "    message = hash_file(\"track1.mp3\")\n",
    "    print(message)\n",
    "    "
   ]
  },
  {
   "cell_type": "code",
   "execution_count": 40,
   "metadata": {},
   "outputs": [
    {
     "name": "stdout",
     "output_type": "stream",
     "text": [
      "* \n",
      "* * \n",
      "* * * \n",
      "* * * * \n",
      "* * * * * \n",
      "* * * * * * \n",
      "* * * * * * * \n",
      "* * * * * * * * \n",
      "* * * * * * * * * \n"
     ]
    }
   ],
   "source": [
    "#Python Program to create the Pyramid Patterns\n",
    "#Python Programs to print triangles using *,numbersv and characters\n",
    "#Example 1: Program to print half pyramid using *\n",
    "rows=int(input(\"Enter the number of rows: \"))\n",
    "for i in range(rows):\n",
    "    for j in range(i+1):\n",
    "        print(\"* \", end=\"\")\n",
    "    print()"
   ]
  },
  {
   "cell_type": "code",
   "execution_count": 41,
   "metadata": {},
   "outputs": [
    {
     "name": "stdout",
     "output_type": "stream",
     "text": [
      "1 \n",
      "1 2 \n",
      "1 2 3 \n",
      "1 2 3 4 \n",
      "1 2 3 4 5 \n",
      "1 2 3 4 5 6 \n",
      "1 2 3 4 5 6 7 \n",
      "1 2 3 4 5 6 7 8 \n",
      "1 2 3 4 5 6 7 8 9 \n"
     ]
    }
   ],
   "source": [
    "#Python Program to create the Pyramid Patterns\n",
    "#Python Programs to print triangles using *,numbersv and characters\n",
    "#Example 2: Program to print half pyramid a using numbers\n",
    "rows=int(input(\"Enter the number of rows you want: \"))\n",
    "for i in range(rows):\n",
    "    for j in range(i+1):\n",
    "        print(j+1, end=\" \")\n",
    "    print()"
   ]
  },
  {
   "cell_type": "code",
   "execution_count": 44,
   "metadata": {},
   "outputs": [
    {
     "name": "stdout",
     "output_type": "stream",
     "text": [
      "A \n",
      "B B \n",
      "C C C \n",
      "D D D D \n",
      "E E E E E \n",
      "F F F F F F \n",
      "G G G G G G G \n",
      "H H H H H H H H \n",
      "I I I I I I I I I \n",
      "J J J J J J J J J J \n"
     ]
    }
   ],
   "source": [
    "#Python Program to create the Pyramid Patterns\n",
    "#Python Programs to print triangles using *,numbersv and characters\n",
    "#Example 3:Program to print half pyramid using alphabets\n",
    "rows=int(input(\"Enter the value of rows: \"))\n",
    "ascii_value=65\n",
    "for i in range(rows):\n",
    "    for j in range(i+1):\n",
    "        alphabet = chr(ascii_value)\n",
    "        print(alphabet, end=\" \")\n",
    "    ascii_value += 1\n",
    "    print()"
   ]
  },
  {
   "cell_type": "code",
   "execution_count": 45,
   "metadata": {},
   "outputs": [
    {
     "name": "stdout",
     "output_type": "stream",
     "text": [
      "*  *  *  *  *  *  *  *  *  *  \n",
      "*  *  *  *  *  *  *  *  *  \n",
      "*  *  *  *  *  *  *  *  \n",
      "*  *  *  *  *  *  *  \n",
      "*  *  *  *  *  *  \n",
      "*  *  *  *  *  \n",
      "*  *  *  *  \n",
      "*  *  *  \n",
      "*  *  \n",
      "*  \n"
     ]
    }
   ],
   "source": [
    "#Python Program to create the Pyramid Patterns\n",
    "#Python Programs to print triangles using *,numbersv and characters\n",
    "#Programs to print inverted half pyramid using * and numbers\n",
    "#Example 4: Inverted half pyramid using *\n",
    "rows = int(input(\"Enter the number of rows: \"))\n",
    "for i in range(rows, 0,-1):\n",
    "    for j in range(0,i):\n",
    "        print(\"* \", end=\" \")\n",
    "    print()"
   ]
  },
  {
   "cell_type": "code",
   "execution_count": 46,
   "metadata": {},
   "outputs": [
    {
     "name": "stdout",
     "output_type": "stream",
     "text": [
      "*  *  *  *  *  *  *  *  *  \n",
      "*  *  *  *  *  *  *  *  \n",
      "*  *  *  *  *  *  *  \n",
      "*  *  *  *  *  *  \n",
      "*  *  *  *  *  \n",
      "*  *  *  *  \n",
      "*  *  *  \n",
      "*  *  \n",
      "*  \n"
     ]
    }
   ],
   "source": [
    "#Python Program to create the Pyramid Patterns\n",
    "#Python Programs to print triangles using *,numbersv and characters\n",
    "#Programs to print inverted half pyramid using * and numbers\n",
    "#Example 4: Inverted half pyramid using *\n",
    "rows = int(input(\"Enter the number of rows: \"))\n",
    "for i in range(rows, 0,-1):\n",
    "    for j in range(0,i):\n",
    "        print(\"* \", end=\" \")\n",
    "    print()"
   ]
  },
  {
   "cell_type": "code",
   "execution_count": 47,
   "metadata": {},
   "outputs": [
    {
     "name": "stdout",
     "output_type": "stream",
     "text": [
      "*  *  *  *  *  *  *  \n",
      "*  *  *  *  *  *  \n",
      "*  *  *  *  *  \n",
      "*  *  *  *  \n",
      "*  *  *  \n",
      "*  *  \n",
      "*  \n"
     ]
    }
   ],
   "source": [
    "#Python Program to create the Pyramid Patterns\n",
    "#Python Programs to print triangles using *,numbersv and characters\n",
    "#Programs to print inverted half pyramid using * and numbers\n",
    "#Example 4: Inverted half pyramid using *\n",
    "rows = int(input(\"Enter the number of rows: \"))\n",
    "for i in range(rows, 0,-1):\n",
    "    for j in range(0,i):\n",
    "        print(\"* \", end=\" \")\n",
    "    print()"
   ]
  },
  {
   "cell_type": "code",
   "execution_count": 48,
   "metadata": {},
   "outputs": [
    {
     "name": "stdout",
     "output_type": "stream",
     "text": [
      "1 2 3 4 5 6 7 8 9 \n",
      "1 2 3 4 5 6 7 8 \n",
      "1 2 3 4 5 6 7 \n",
      "1 2 3 4 5 6 \n",
      "1 2 3 4 5 \n",
      "1 2 3 4 \n",
      "1 2 3 \n",
      "1 2 \n",
      "1 \n"
     ]
    }
   ],
   "source": [
    "#Python Program to create the Pyramid Patterns\n",
    "#Python Programs to print triangles using *,numbersv and characters\n",
    "#Programs to print inverted half pyramid using * and numbers\n",
    "#Example 4: Inverted half pyramid using *\n",
    "rows = int(input(\"Enter the number of rows: \"))\n",
    "for i in range(rows, 0,-1):\n",
    "    for j in range(1,i+1):\n",
    "        print(j, end=\" \")\n",
    "    print()"
   ]
  },
  {
   "cell_type": "code",
   "execution_count": 50,
   "metadata": {},
   "outputs": [
    {
     "name": "stdout",
     "output_type": "stream",
     "text": [
      "1 2 3 4 5 6 \n",
      "1 2 3 4 5 \n",
      "1 2 3 4 \n",
      "1 2 3 \n",
      "1 2 \n",
      "1 \n"
     ]
    }
   ],
   "source": [
    "#Python Program to create the Pyramid Patterns\n",
    "#Python Programs to print triangles using *,numbersv and characters\n",
    "#Programs to print inverted half pyramid using * and numbers\n",
    "#Example 4: Inverted half pyramid using *\n",
    "rows = int(input(\"Enter the number of rows: \"))\n",
    "for i in range(rows, 0,-1):\n",
    "    for j in range(1,i+1):\n",
    "        print(j, end=\" \")\n",
    "    print()"
   ]
  },
  {
   "cell_type": "code",
   "execution_count": 52,
   "metadata": {},
   "outputs": [
    {
     "name": "stdout",
     "output_type": "stream",
     "text": [
      "                                      * \n",
      "                                    * * * \n",
      "                                  * * * * * \n",
      "                                * * * * * * * \n",
      "                              * * * * * * * * * \n",
      "                            * * * * * * * * * * * \n",
      "                          * * * * * * * * * * * * * \n",
      "                        * * * * * * * * * * * * * * * \n",
      "                      * * * * * * * * * * * * * * * * * \n",
      "                    * * * * * * * * * * * * * * * * * * * \n",
      "                  * * * * * * * * * * * * * * * * * * * * * \n",
      "                * * * * * * * * * * * * * * * * * * * * * * * \n",
      "              * * * * * * * * * * * * * * * * * * * * * * * * * \n",
      "            * * * * * * * * * * * * * * * * * * * * * * * * * * * \n",
      "          * * * * * * * * * * * * * * * * * * * * * * * * * * * * * \n",
      "        * * * * * * * * * * * * * * * * * * * * * * * * * * * * * * * \n",
      "      * * * * * * * * * * * * * * * * * * * * * * * * * * * * * * * * * \n",
      "    * * * * * * * * * * * * * * * * * * * * * * * * * * * * * * * * * * * \n",
      "  * * * * * * * * * * * * * * * * * * * * * * * * * * * * * * * * * * * * * \n",
      "* * * * * * * * * * * * * * * * * * * * * * * * * * * * * * * * * * * * * * * \n"
     ]
    }
   ],
   "source": [
    "#Python Program to create the Pyramid Patterns\n",
    "#Python Programs to print triangles using *,numbersv and characters\n",
    "#Programs to print inverted half pyramid using * and numbers\n",
    "#Programs to print full Pyramids\n",
    "#Example Program to print full pyramid using *\n",
    "rows = int(input(\"Enter number of rows: \"))\n",
    " \n",
    "k = 0\n",
    " \n",
    "for i in range(1, rows+1):\n",
    "    for space in range(1, (rows-i)+1):\n",
    "        print(end=\"  \")\n",
    "    while k!=(2*i-1):\n",
    "        print(\"* \", end=\"\")\n",
    "        k += 1\n",
    "    k = 0\n",
    "    print()"
   ]
  },
  {
   "cell_type": "code",
   "execution_count": 53,
   "metadata": {},
   "outputs": [
    {
     "name": "stdout",
     "output_type": "stream",
     "text": [
      "{1: 'a', 2: 'c', 4: 'd'}\n",
      "{1: 'a', 2: 'c', 4: 'd'}\n",
      "{2: 'b', 4: 'd', 1: 'a'}\n"
     ]
    }
   ],
   "source": [
    "#Python Program to Merge Two Dictonaries\n",
    "#Merge Two Dictonaries Using the | Operator\n",
    " \n",
    "dict_1={1:'a',2:'b'}\n",
    "dict_2={2:'c',4:'d'}\n",
    "print(dict_1 | dict_2)\n",
    " \n",
    "#Merge Two Dictonaries Using the ** Operator\n",
    "dict_1={1:'a',2:'b'}\n",
    "dict_2={2:'c',4:'d'}\n",
    "print({**dict_1, **dict_2})\n",
    " \n",
    "#Merge Two Dictornaries Using copy() and update()\n",
    "dict_1={1:'a',2:'b'}\n",
    "dict_2={2:'c',4:'d'}\n",
    "dict_3=dict_2.copy()\n",
    "dict_3.update(dict_1)\n",
    "print(dict_3)"
   ]
  },
  {
   "cell_type": "code",
   "execution_count": 54,
   "metadata": {},
   "outputs": [
    {
     "ename": "NameError",
     "evalue": "name 'path' is not defined",
     "output_type": "error",
     "traceback": [
      "\u001b[1;31m---------------------------------------------------------------------------\u001b[0m",
      "\u001b[1;31mNameError\u001b[0m                                 Traceback (most recent call last)",
      "Cell \u001b[1;32mIn[54], line 4\u001b[0m\n\u001b[0;32m      1\u001b[0m \u001b[38;5;66;03m#Python Program to safely create a Nested Directory\u001b[39;00m\n\u001b[0;32m      2\u001b[0m \u001b[38;5;66;03m#Using pathlib.Path.mkdir\u001b[39;00m\n\u001b[0;32m      3\u001b[0m \u001b[38;5;28;01mfrom\u001b[39;00m \u001b[38;5;21;01mpathlib\u001b[39;00m \u001b[38;5;28;01mimport\u001b[39;00m Path\n\u001b[1;32m----> 4\u001b[0m \u001b[43mpath\u001b[49m(\u001b[38;5;124m\"\u001b[39m\u001b[38;5;124m/root/dirA/dirB\u001b[39m\u001b[38;5;124m\"\u001b[39m)\u001b[38;5;241m.\u001b[39mmkdir(parents\u001b[38;5;241m=\u001b[39m\u001b[38;5;28;01mTrue\u001b[39;00m, exist_ok\u001b[38;5;241m=\u001b[39m\u001b[38;5;28;01mTrue\u001b[39;00m)\n\u001b[0;32m      5\u001b[0m \u001b[38;5;66;03m#Using os.makedirs\u001b[39;00m\n\u001b[0;32m      6\u001b[0m \u001b[38;5;28;01mimport\u001b[39;00m \u001b[38;5;21;01mos\u001b[39;00m\n",
      "\u001b[1;31mNameError\u001b[0m: name 'path' is not defined"
     ]
    }
   ],
   "source": [
    "#Python Program to safely create a Nested Directory\n",
    "#Using pathlib.Path.mkdir\n",
    "from pathlib import Path\n",
    "path(\"/root/dirA/dirB\").mkdir(parents=True, exist_ok=True)\n",
    "#Using os.makedirs\n",
    "import os\n",
    "os.makedirs(\"/root/dirA/dirB\")\n",
    "#Using distutils.dir_util\n",
    "import distutils.dir_util\n",
    "distutils.dir_util.mkpath(\"/root/dirA/dirB\")\n",
    "#Raising an exception if directory already exists\n",
    "import os\n",
    "try:\n",
    "    os.makedirs(\"/dirA/dirB\")\n",
    "except FileExistsError:\n",
    "    print(\"File already exists\")"
   ]
  },
  {
   "cell_type": "code",
   "execution_count": 55,
   "metadata": {},
   "outputs": [
    {
     "name": "stdout",
     "output_type": "stream",
     "text": [
      "0 21\n",
      "1 44\n",
      "2 35\n",
      "3 11\n",
      "===================================================\n",
      "1 23\n",
      "2 45\n",
      "3 12\n",
      "4 56\n",
      "===================================================\n",
      "0 43\n",
      "1 23\n",
      "2 45\n",
      "3 67\n"
     ]
    }
   ],
   "source": [
    "#Python Program to access Index of a list using for loop\n",
    "#Using enumerate\n",
    "my_list=[21,44,35,11]\n",
    "for index,val in enumerate(my_list):\n",
    "    print(index,val)\n",
    "print(\"===================================================\")    \n",
    "#Start the indexing with non zero value\n",
    "my_list = [23,45,12,56]\n",
    "for index, val in enumerate(my_list, start=1):\n",
    "    print(index, val)\n",
    "print(\"===================================================\")     \n",
    "#Without using enumerate()\n",
    "my_list=[43,23,45,67]\n",
    "for index in range(len(my_list)):\n",
    "    value = my_list[index]\n",
    "    print(index, value)"
   ]
  },
  {
   "cell_type": "code",
   "execution_count": 56,
   "metadata": {},
   "outputs": [
    {
     "name": "stdout",
     "output_type": "stream",
     "text": [
      "0 21\n",
      "1 44\n",
      "2 35\n",
      "3 11\n",
      "===================================================\n",
      "1 23\n",
      "2 45\n",
      "3 12\n",
      "4 56\n",
      "===================================================\n",
      "0 43\n",
      "1 23\n",
      "2 45\n",
      "3 67\n"
     ]
    }
   ],
   "source": [
    "#Python Program to access Index of a list using for loop\n",
    "#Using enumerate\n",
    "my_list=[21,44,35,11]\n",
    "for index,val in enumerate(my_list):\n",
    "    print(index,val)\n",
    "print(\"===================================================\")    \n",
    "#Start the indexing with non zero value\n",
    "my_list = [23,45,12,56]\n",
    "for index, val in enumerate(my_list, start=1):\n",
    "    print(index, val)\n",
    "print(\"===================================================\")     \n",
    "#Without using enumerate()\n",
    "my_list=[43,23,45,67]\n",
    "for index in range(len(my_list)):\n",
    "    value = my_list[index]\n",
    "    print(index, value)"
   ]
  },
  {
   "cell_type": "code",
   "execution_count": 57,
   "metadata": {},
   "outputs": [
    {
     "name": "stdout",
     "output_type": "stream",
     "text": [
      "[1, 2, 3, 4, 5, 6, 7, 8, 9, 10]\n",
      "[1, 2, 3, 4, 5, 6, 7, 8, 9, 10]\n",
      "[1, 2, 3, 4, 5, 6, 7, 8, 9, 10]\n",
      "[1, 2, 3, 4, 5, 6, 7, 8, 9, 10]\n",
      "[1, 2, 3, 4, 5, 6, 7, 8, 9, 10]\n"
     ]
    }
   ],
   "source": [
    "#Python Program to Flatten a Nested List\n",
    "#Using List Comprehension\n",
    "my_list = [[1],[2,3],[4,5,6],[7,8,9,10]]\n",
    "flat_list = [num for sublist in my_list for num in sublist]\n",
    "print(flat_list)\n",
    " \n",
    "#Using the Nested for Loops (Non-Pythonic Way)\n",
    "my_list=[[1],[2,3],[4,5,6],[7,8,9,10]]\n",
    "flat_list=[]\n",
    "for sublist in my_list:\n",
    "    for num in sublist:\n",
    "        flat_list.append(num)\n",
    "print(flat_list)\n",
    " \n",
    "#Using the itertools package\n",
    "import itertools\n",
    "my_list=[[1],[2,3],[4,5,6],[7,8,9,10]]\n",
    "flat_list=list(itertools.chain(*my_list))\n",
    "print(flat_list)\n",
    " \n",
    "#using sum()\n",
    "my_list=[[1],[2,3],[4,5,6],[7,8,9,10]]\n",
    "flat_list=sum(my_list,[])\n",
    "print(flat_list)\n",
    " \n",
    "#using lambda and reduce()\n",
    "from functools import reduce\n",
    "my_list=[[1],[2,3],[4,5,6],[7,8,9,10]]\n",
    "print(reduce(lambda x,y:x+y, my_list))"
   ]
  },
  {
   "cell_type": "code",
   "execution_count": 58,
   "metadata": {},
   "outputs": [
    {
     "name": "stdout",
     "output_type": "stream",
     "text": [
      "[1, 2, 3, 4, 5]\n",
      "[5, 6, 7, 8]\n",
      "[9, 8]\n",
      "[3, 4, 5, 6]\n",
      "[1, 3, 5, 7, 9]\n",
      "[10, 8, 6, 4, 2]\n",
      "[3, 5, 7]\n"
     ]
    }
   ],
   "source": [
    "#Python Program to Slice Lists\n",
    "#The format for the list slicing is [start:stop:step]\n",
    "#start is the index of the list where slicing starts.\n",
    "#stop is the index of the list where the slicing ends.\n",
    "#step allows you to select the nth item within the range of the list from the start to stop\n",
    "#Get all the items of the list\n",
    "my_list=[1,2,3,4,5]\n",
    "print(my_list[:])\n",
    " \n",
    "#Get all the items after a specific Position\n",
    "my_list=[3,4,5,6,7,8]\n",
    "print(my_list[2:])\n",
    " \n",
    "#Get all the Items before a specific position\n",
    "my_list=[9,8,7,6,5,4,3]\n",
    "print(my_list[:2])\n",
    " \n",
    "#Get all the items from one position to another positoin\n",
    "my_list=[1,2,3,4,5,6,7,8,9,10]\n",
    "print(my_list[2:6])\n",
    " \n",
    "#Get the Items at the specified intervals\n",
    "my_list = [1,2,3,4,5,6,7,8,9,10]\n",
    "print(my_list[::2])\n",
    " \n",
    "#Getting the items at the specified intervals in the reverse order\n",
    "my_list=[1,2,3,4,5,6,7,8,9,10]\n",
    "print(my_list[::-2])\n",
    " \n",
    "#Getting the items form one point to another in the list along with the interval\n",
    "my_lsit=[1,2,3,4,5,6,7,8,9,10]\n",
    "print(my_list[2:8:2])"
   ]
  },
  {
   "cell_type": "code",
   "execution_count": 73,
   "metadata": {},
   "outputs": [
    {
     "name": "stdout",
     "output_type": "stream",
     "text": [
      "a Akanksha\n",
      "b Summi\n",
      "c Pratiksha\n",
      "Name: Akanksha\n",
      "skill: Python\n",
      "band: E1.1\n",
      "=====================================================\n",
      "a juice\n",
      "b grill\n",
      "c corn\n",
      "a juice\n",
      "b grill\n",
      "c corn\n"
     ]
    },
    {
     "ename": "AttributeError",
     "evalue": "'dict' object has no attribute 'iteritems'",
     "output_type": "error",
     "traceback": [
      "\u001b[1;31m---------------------------------------------------------------------------\u001b[0m",
      "\u001b[1;31mAttributeError\u001b[0m                            Traceback (most recent call last)",
      "Cell \u001b[1;32mIn[73], line 40\u001b[0m\n\u001b[0;32m     36\u001b[0m \u001b[38;5;66;03m#Access both key and value using iteritems()   \u001b[39;00m\n\u001b[0;32m     38\u001b[0m dt \u001b[38;5;241m=\u001b[39m {\u001b[38;5;124m'\u001b[39m\u001b[38;5;124ma\u001b[39m\u001b[38;5;124m'\u001b[39m: \u001b[38;5;124m'\u001b[39m\u001b[38;5;124mjuice\u001b[39m\u001b[38;5;124m'\u001b[39m, \u001b[38;5;124m'\u001b[39m\u001b[38;5;124mb\u001b[39m\u001b[38;5;124m'\u001b[39m: \u001b[38;5;124m'\u001b[39m\u001b[38;5;124mgrill\u001b[39m\u001b[38;5;124m'\u001b[39m, \u001b[38;5;124m'\u001b[39m\u001b[38;5;124mc\u001b[39m\u001b[38;5;124m'\u001b[39m: \u001b[38;5;124m'\u001b[39m\u001b[38;5;124mcorn\u001b[39m\u001b[38;5;124m'\u001b[39m}\n\u001b[1;32m---> 40\u001b[0m \u001b[38;5;28;01mfor\u001b[39;00m key, value \u001b[38;5;129;01min\u001b[39;00m \u001b[43mdt\u001b[49m\u001b[38;5;241;43m.\u001b[39;49m\u001b[43miteritems\u001b[49m():\n\u001b[0;32m     41\u001b[0m     \u001b[38;5;28mprint\u001b[39m(key, value)\n\u001b[0;32m     43\u001b[0m \u001b[38;5;66;03m#Return keys or values explicitly\u001b[39;00m\n",
      "\u001b[1;31mAttributeError\u001b[0m: 'dict' object has no attribute 'iteritems'"
     ]
    }
   ],
   "source": [
    "#Python Program to Iterate over dictonaries using for Loop\n",
    "#1.Access both key and value using items()\n",
    "dt = {'a':'Akanksha', 'b':'Summi','c':'Pratiksha'}\n",
    "for key, value in dt.items():\n",
    "    print(key,value)\n",
    " \n",
    "#2.Access both key and value without using items()\n",
    "dt={'Name:':'Akanksha','skill:':'Python','band:':'E1.1'}\n",
    "for key in dt:\n",
    "    print(key,dt[key])\n",
    "#4Return keys or values explicitly\n",
    "#dt={'Name:':'Summi','Role:':'Software Engineer','skill:':'SQL'}\n",
    "#for key in dt.keys:\n",
    "#    print(key)\n",
    "#for value in dt.values():\n",
    "#    print(value)\n",
    "#3Access both key and value using iteritems()\n",
    "#dt={'Name:':'Pratiksha','skill:':'Data Science','Role:':'Student'}\n",
    "#for key,value in dt.iteritems():\n",
    "#    print(key,value)\n",
    "\n",
    "print(\"=====================================================\")\n",
    "#Access both key and value using items()\n",
    "dt = {'a': 'juice', 'b': 'grill', 'c': 'corn'}\n",
    "\n",
    "for key, value in dt.items():\n",
    "    print(key, value)\n",
    "\n",
    "#Access both key and value without using items()\n",
    "\n",
    "dt = {'a': 'juice', 'b': 'grill', 'c': 'corn'}\n",
    "\n",
    "for key in dt:\n",
    "    print(key, dt[key])\n",
    "\n",
    "#Access both key and value using iteritems()   \n",
    "\n",
    "dt = {'a': 'juice', 'b': 'grill', 'c': 'corn'}\n",
    "\n",
    "for key, value in dt.iteritems():\n",
    "    print(key, value)\n",
    "\n",
    "#Return keys or values explicitly\n",
    "\n",
    "dt = {'a': 'juice', 'b': 'grill', 'c': 'corn'}\n",
    "\n",
    "for key in dt.keys():\n",
    "    print(key)\n",
    "\n",
    "for value in dt.values():\n",
    "    print(value)"
   ]
  },
  {
   "cell_type": "code",
   "execution_count": 60,
   "metadata": {},
   "outputs": [
    {
     "name": "stdout",
     "output_type": "stream",
     "text": [
      "Key is already Present in a Dictionary\n"
     ]
    }
   ],
   "source": [
    "#Python Program to Check if a key is already present in a Dictionary\n",
    "\n",
    "#Using in Keyword\n",
    "my_dict={1:'a',2:'b',3:'c'}\n",
    "if 2 in my_dict:\n",
    "    print(\"Key is already Present in a Dictionary\")"
   ]
  },
  {
   "cell_type": "code",
   "execution_count": 63,
   "metadata": {},
   "outputs": [
    {
     "name": "stdout",
     "output_type": "stream",
     "text": [
      "<class 'int'>\n",
      "1500\n",
      "<class 'float'>\n",
      "1500.4\n",
      "<class 'int'>\n",
      "1500\n"
     ]
    }
   ],
   "source": [
    "#Python Program to Parse a string to a Float or Int\n",
    "#Note: The string must be a numerical value\n",
    "#Parse string into integer\n",
    "balance_str=\"1500\"\n",
    "balance_int=int(balance_str)\n",
    "\n",
    "#print the type\n",
    "print(type(balance_int))\n",
    "\n",
    "#print the value\n",
    "print(balance_int)\n",
    "\n",
    "#Parse string into float\n",
    "\n",
    "balance_str1=\"1500.40\"\n",
    "balance_float=float(balance_str1)\n",
    "\n",
    "print(type(balance_float))\n",
    "print(balance_float)\n",
    "\n",
    "#Parse a string float numeral into integer\n",
    "\n",
    "balance_str=\"1500.344\"\n",
    "balance_int=int(float(balance_str))\n",
    "\n",
    "print(type(balance_int))\n",
    "print(balance_int)"
   ]
  },
  {
   "cell_type": "code",
   "execution_count": 67,
   "metadata": {},
   "outputs": [
    {
     "name": "stdout",
     "output_type": "stream",
     "text": [
      "\u001b[38;2;5;86;243mAkanksha the Great\u001b[0m\n"
     ]
    }
   ],
   "source": [
    "#Python Program to Print Coloured Text to the Terminal\n",
    "print('\\x1b[38;2;5;86;243m' + 'Akanksha the Great' + '\\x1b[0m')"
   ]
  },
  {
   "cell_type": "code",
   "execution_count": 74,
   "metadata": {},
   "outputs": [
    {
     "name": "stdout",
     "output_type": "stream",
     "text": [
      "<class 'datetime.datetime'>\n",
      "2011-03-11 11:31:00\n",
      "2011-03-11 11:31:00\n",
      "<class 'datetime.datetime'>\n"
     ]
    }
   ],
   "source": [
    "#Python Program to Convert String to Datetime\n",
    "\n",
    "#Using datetime module\n",
    "\n",
    "from datetime import datetime\n",
    "\n",
    "my_date_string = \"Mar 11 2011 11:31AM\"\n",
    "\n",
    "datetime_object = datetime.strptime(my_date_string, '%b %d %Y %I:%M%p')\n",
    "\n",
    "print(type(datetime_object))\n",
    "print(datetime_object)\n",
    "\n",
    "#Using dateutil module\n",
    "\n",
    "from dateutil import parser\n",
    "\n",
    "date_time = parser.parse(\"Mar 11 2011 11:31AM\")\n",
    "\n",
    "print(date_time)\n",
    "print(type(date_time))"
   ]
  },
  {
   "cell_type": "code",
   "execution_count": 76,
   "metadata": {},
   "outputs": [
    {
     "name": "stdout",
     "output_type": "stream",
     "text": [
      "f\n"
     ]
    }
   ],
   "source": [
    "#Python Program to ger the Last Element  of the List\n",
    "my_list = ['a','b','c','d','e','f']\n",
    "print(my_list[-1])"
   ]
  },
  {
   "cell_type": "code",
   "execution_count": 83,
   "metadata": {},
   "outputs": [
    {
     "name": "stdout",
     "output_type": "stream",
     "text": [
      " I can do anything\n",
      " Thankyou GOD for everything.\n",
      "I love Python. I can do anything. Thankyou GOD for everything\n",
      ".gnihtyreve rof DOG uoyknahT .gnihtyna od nac I .nohtyP evol I\n"
     ]
    }
   ],
   "source": [
    "#Python Program to get a substring of a string\n",
    "my_string=\"I love Python. I can do anything. Thankyou GOD for everything.\"\n",
    "print(my_string[14:32])\n",
    "\n",
    "print(my_string[33:])\n",
    "print(my_string[:-1])\n",
    "print(my_string[::-1])"
   ]
  },
  {
   "cell_type": "code",
   "execution_count": 85,
   "metadata": {},
   "outputs": [
    {
     "name": "stdout",
     "output_type": "stream",
     "text": [
      "Python\n",
      "is the best programming language and it is easy to learn as well.\n",
      "\n",
      "Python is easy to learn.\n"
     ]
    }
   ],
   "source": [
    "#Python Program to Print Output without a Newline\n",
    "print(\"Python\")\n",
    "print(\"is the best programming language and it is easy to learn as well.\")\n",
    "print()\n",
    "print(\"Python\", end=\" \")\n",
    "print(\"is easy to learn.\")"
   ]
  },
  {
   "cell_type": "code",
   "execution_count": null,
   "metadata": {},
   "outputs": [],
   "source": [
    "#Python Program Read a File Line by Line into a List\n"
   ]
  }
 ],
 "metadata": {
  "kernelspec": {
   "display_name": "Python 3",
   "language": "python",
   "name": "python3"
  },
  "language_info": {
   "codemirror_mode": {
    "name": "ipython",
    "version": 3
   },
   "file_extension": ".py",
   "mimetype": "text/x-python",
   "name": "python",
   "nbconvert_exporter": "python",
   "pygments_lexer": "ipython3",
   "version": "3.12.4"
  }
 },
 "nbformat": 4,
 "nbformat_minor": 2
}
