{
 "cells": [
  {
   "cell_type": "code",
   "execution_count": 2,
   "metadata": {},
   "outputs": [
    {
     "name": "stdout",
     "output_type": "stream",
     "text": [
      "Hello, World!\n"
     ]
    }
   ],
   "source": [
    "#Python Program to Print Hello World!\n",
    "print(\"Hello, World!\")"
   ]
  },
  {
   "cell_type": "code",
   "execution_count": 5,
   "metadata": {},
   "outputs": [
    {
     "name": "stdout",
     "output_type": "stream",
     "text": [
      "The sum of 2.9 and 3.1 is 6.0\n",
      "The sume of 86 and 45 is 131.0\n"
     ]
    }
   ],
   "source": [
    "#Python Program to Add Two Numbers\n",
    "num1=2.9\n",
    "num2=3.1\n",
    "sum = num1+num2\n",
    "print('The sum of {0} and {1} is {2}'.format(num1,num2,sum))\n",
    "\n",
    "#Add the two number using the User Input\n",
    "\n",
    "num1=input('Enter first number: ')\n",
    "num2=input('Enter second Number: ')\n",
    "sum = float(num1)+float(num2)\n",
    "print('The sume of {0} and {1} is {2}'.format(num1,num2,sum))\n"
   ]
  },
  {
   "cell_type": "code",
   "execution_count": 7,
   "metadata": {},
   "outputs": [
    {
     "name": "stdout",
     "output_type": "stream",
     "text": [
      "The sqare root of 9.000 is 3.000\n"
     ]
    }
   ],
   "source": [
    "#Python Program to Find the Square Root\n",
    "num=9\n",
    "num_sqrt=num**0.5\n",
    "print('The sqare root of %0.3f is %0.3f'%(num,num_sqrt))"
   ]
  },
  {
   "cell_type": "code",
   "execution_count": 9,
   "metadata": {},
   "outputs": [
    {
     "name": "stdout",
     "output_type": "stream",
     "text": [
      "The sqare root of 5.000 is 2.236\n"
     ]
    }
   ],
   "source": [
    "#Python Program to find the Square root of the numbe by taking the input from the user\n",
    "num=float(input('Enter a number: '))\n",
    "num_sqrt = num**0.5\n",
    "print('The sqare root of %0.3f is %0.3f'%(num,num_sqrt))\n"
   ]
  },
  {
   "cell_type": "code",
   "execution_count": 11,
   "metadata": {},
   "outputs": [
    {
     "name": "stdout",
     "output_type": "stream",
     "text": [
      "The area of the triangle with base 9.000 and height 6.000 is 27.000\n"
     ]
    }
   ],
   "source": [
    "#Python Program to calculate the Area of a Right angled Triangle\n",
    "\n",
    "h=float(input('Enter the height of the right angled Triangle: '))\n",
    "b=float(input('Enter the base of the right angled Triangle: '))\n",
    "area=0.5*h*b\n",
    "print('The area of the triangle with base %0.3f and height %0.3f is %0.3f'%(h,b,area))\n"
   ]
  },
  {
   "cell_type": "code",
   "execution_count": 13,
   "metadata": {},
   "outputs": [
    {
     "name": "stdout",
     "output_type": "stream",
     "text": [
      "The area of the trianle is 26.833\n"
     ]
    }
   ],
   "source": [
    "#Python Program to calculate the area of the Triangle\n",
    "a=float(input('Enter first side: '))\n",
    "b=float(input('Enter second side: '))\n",
    "c=float(input('Enter third side: '))\n",
    "\n",
    "s=(a+b+c)/2\n",
    "area = (s*(s-a)*(s-b)*(s-c))**0.5\n",
    "print('The area of the trianle is %0.3f'%area)"
   ]
  },
  {
   "cell_type": "code",
   "execution_count": 20,
   "metadata": {},
   "outputs": [
    {
     "name": "stdout",
     "output_type": "stream",
     "text": [
      "The solution are (-3+0j) and (-2+0j)\n"
     ]
    }
   ],
   "source": [
    "#Python program to solve Quadratic Equation\n",
    "import cmath\n",
    "a=int(input('Enter the value of a: '))\n",
    "b=int(input('Enter the value of b: '))\n",
    "c=int(input('Enter the value of c: '))\n",
    "\n",
    "d= (b**2) - (4*a*c)\n",
    "sol1= (-b-cmath.sqrt(d))/(2*a)\n",
    "sol2=(-b+cmath.sqrt(d))/(2*a)\n",
    "\n",
    "print('The solution are {0} and {1}'.format(sol1,sol2))"
   ]
  },
  {
   "cell_type": "code",
   "execution_count": 22,
   "metadata": {},
   "outputs": [
    {
     "name": "stdout",
     "output_type": "stream",
     "text": [
      "The swaped value of a is 6 and b is  9\n"
     ]
    }
   ],
   "source": [
    "#Python Program to Swap two variables\n",
    "a=int(input('Enter the value of the first variable:'))\n",
    "b=int(input(\"Enter the value of the second variable:\"))\n",
    "\n",
    "a=a+b\n",
    "b=a-b\n",
    "a=a-b\n",
    "print('The swaped value of a is {0} and b is  {1}'.format(a,b))"
   ]
  },
  {
   "cell_type": "code",
   "execution_count": 27,
   "metadata": {},
   "outputs": [
    {
     "name": "stdout",
     "output_type": "stream",
     "text": [
      "426671665\n"
     ]
    }
   ],
   "source": [
    "#Python Program to Generate a Random Number\n",
    "#Program to generate a random number between 0 and 9\n",
    "import random\n",
    "print(random.randint(0,900000000))\n"
   ]
  },
  {
   "cell_type": "code",
   "execution_count": 29,
   "metadata": {},
   "outputs": [
    {
     "name": "stdout",
     "output_type": "stream",
     "text": [
      "34.00 kilometers is equal to 21.13 miles\n"
     ]
    }
   ],
   "source": [
    "#Python Program to convert Kilometers to Miles\n",
    "Kilometers = float(input('Enter the value in kilometers: '))\n",
    "conversion_factor=0.621371\n",
    "miles= Kilometers * conversion_factor\n",
    "print('%0.2f kilometers is equal to %0.2f miles'%(Kilometers, miles))\n"
   ]
  },
  {
   "cell_type": "code",
   "execution_count": 31,
   "metadata": {},
   "outputs": [
    {
     "name": "stdout",
     "output_type": "stream",
     "text": [
      "37.5 degree Celcius is equal to 99.5 degree Fahrenheit\n"
     ]
    }
   ],
   "source": [
    "#Python program to convert Celsius to Fahrenheit\n",
    "celcius=float(input('Enter the value of Temperature in Celcius: '))\n",
    "fahrenheit = (celcius * 1.8) +32\n",
    "print('%0.1f degree Celcius is equal to %0.1f degree Fahrenheit'%(celcius,fahrenheit))"
   ]
  },
  {
   "cell_type": "code",
   "execution_count": 40,
   "metadata": {},
   "outputs": [
    {
     "name": "stdout",
     "output_type": "stream",
     "text": [
      "The given number is Positive\n"
     ]
    }
   ],
   "source": [
    "#Python program to check if a Number is Positive, Negative or 0\n",
    "\n",
    "num=float(input('Enter a number: '))\n",
    "if (num>0):\n",
    "    print(\"The given number is Positive\")\n",
    "elif (num<0):\n",
    "    print(\"The given number is negative\")\n",
    "elif (num==0):\n",
    "    print(\"The given number is 0.\")"
   ]
  },
  {
   "cell_type": "code",
   "execution_count": 8,
   "metadata": {},
   "outputs": [
    {
     "name": "stdout",
     "output_type": "stream",
     "text": [
      "11 is an ODD number\n"
     ]
    }
   ],
   "source": [
    "#Python Program to check if the given number is a odd or even.\n",
    "num=int(input('Enter the value of Number:'))\n",
    "if (num % 2 == 0):\n",
    "    print(\"{0} is even number\".format(num))\n",
    "if (num %2 != 0):\n",
    "    print(\"{0} is an ODD number\".format(num))"
   ]
  },
  {
   "cell_type": "code",
   "execution_count": 1,
   "metadata": {},
   "outputs": [],
   "source": [
    "#Python Program to check Leap Year\n",
    "Year=int(input('Enter the Year:'))"
   ]
  },
  {
   "cell_type": "code",
   "execution_count": null,
   "metadata": {},
   "outputs": [],
   "source": [
    "\n",
    "import pandas as pd\n",
    "import numpy as np\n",
    "import matplotlib.pyplot as plt\n",
    "import seaborn as sns\n",
    "\n",
    "# Load the data\n",
    "data = pd.read_csv('news_channel_data.csv')\n",
    "\n",
    "# Check for missing values\n",
    "print(data.isnull().sum())\n",
    "\n",
    "# Fill or drop missing values\n",
    "data.fillna(method='ffill', inplace=True)\n",
    "\n",
    "# Visualize data\n",
    "sns.pairplot(data)\n",
    "plt.show()\n"
   ]
  }
 ],
 "metadata": {
  "kernelspec": {
   "display_name": "Python 3",
   "language": "python",
   "name": "python3"
  },
  "language_info": {
   "codemirror_mode": {
    "name": "ipython",
    "version": 3
   },
   "file_extension": ".py",
   "mimetype": "text/x-python",
   "name": "python",
   "nbconvert_exporter": "python",
   "pygments_lexer": "ipython3",
   "version": "3.12.4"
  }
 },
 "nbformat": 4,
 "nbformat_minor": 2
}
