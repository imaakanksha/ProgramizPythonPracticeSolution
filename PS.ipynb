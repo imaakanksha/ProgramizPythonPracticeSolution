{
 "cells": [
  {
   "cell_type": "code",
   "execution_count": 2,
   "metadata": {},
   "outputs": [
    {
     "name": "stdout",
     "output_type": "stream",
     "text": [
      "Hello, World!\n"
     ]
    }
   ],
   "source": [
    "#Python Program to Print Hello World!\n",
    "print(\"Hello, World!\")"
   ]
  },
  {
   "cell_type": "code",
   "execution_count": 5,
   "metadata": {},
   "outputs": [
    {
     "name": "stdout",
     "output_type": "stream",
     "text": [
      "The sum of 2.9 and 3.1 is 6.0\n",
      "The sume of 86 and 45 is 131.0\n"
     ]
    }
   ],
   "source": [
    "#Python Program to Add Two Numbers\n",
    "num1=2.9\n",
    "num2=3.1\n",
    "sum = num1+num2\n",
    "print('The sum of {0} and {1} is {2}'.format(num1,num2,sum))\n",
    "\n",
    "#Add the two number using the User Input\n",
    "\n",
    "num1=input('Enter first number: ')\n",
    "num2=input('Enter second Number: ')\n",
    "sum = float(num1)+float(num2)\n",
    "print('The sume of {0} and {1} is {2}'.format(num1,num2,sum))\n"
   ]
  },
  {
   "cell_type": "code",
   "execution_count": 7,
   "metadata": {},
   "outputs": [
    {
     "name": "stdout",
     "output_type": "stream",
     "text": [
      "The sqare root of 9.000 is 3.000\n"
     ]
    }
   ],
   "source": [
    "#Python Program to Find the Square Root\n",
    "num=9\n",
    "num_sqrt=num**0.5\n",
    "print('The sqare root of %0.3f is %0.3f'%(num,num_sqrt))"
   ]
  },
  {
   "cell_type": "code",
   "execution_count": 9,
   "metadata": {},
   "outputs": [
    {
     "name": "stdout",
     "output_type": "stream",
     "text": [
      "The sqare root of 5.000 is 2.236\n"
     ]
    }
   ],
   "source": [
    "#Python Program to find the Square root of the numbe by taking the input from the user\n",
    "num=float(input('Enter a number: '))\n",
    "num_sqrt = num**0.5\n",
    "print('The sqare root of %0.3f is %0.3f'%(num,num_sqrt))\n"
   ]
  },
  {
   "cell_type": "code",
   "execution_count": 11,
   "metadata": {},
   "outputs": [
    {
     "name": "stdout",
     "output_type": "stream",
     "text": [
      "The area of the triangle with base 9.000 and height 6.000 is 27.000\n"
     ]
    }
   ],
   "source": [
    "#Python Program to calculate the Area of a Right angled Triangle\n",
    "\n",
    "h=float(input('Enter the height of the right angled Triangle: '))\n",
    "b=float(input('Enter the base of the right angled Triangle: '))\n",
    "area=0.5*h*b\n",
    "print('The area of the triangle with base %0.3f and height %0.3f is %0.3f'%(h,b,area))\n"
   ]
  },
  {
   "cell_type": "code",
   "execution_count": 13,
   "metadata": {},
   "outputs": [
    {
     "name": "stdout",
     "output_type": "stream",
     "text": [
      "The area of the trianle is 26.833\n"
     ]
    }
   ],
   "source": [
    "#Python Program to calculate the area of the Triangle\n",
    "a=float(input('Enter first side: '))\n",
    "b=float(input('Enter second side: '))\n",
    "c=float(input('Enter third side: '))\n",
    "\n",
    "s=(a+b+c)/2\n",
    "area = (s*(s-a)*(s-b)*(s-c))**0.5\n",
    "print('The area of the trianle is %0.3f'%area)"
   ]
  },
  {
   "cell_type": "code",
   "execution_count": 20,
   "metadata": {},
   "outputs": [
    {
     "name": "stdout",
     "output_type": "stream",
     "text": [
      "The solution are (-3+0j) and (-2+0j)\n"
     ]
    }
   ],
   "source": [
    "#Python program to solve Quadratic Equation\n",
    "import cmath\n",
    "a=int(input('Enter the value of a: '))\n",
    "b=int(input('Enter the value of b: '))\n",
    "c=int(input('Enter the value of c: '))\n",
    "\n",
    "d= (b**2) - (4*a*c)\n",
    "sol1= (-b-cmath.sqrt(d))/(2*a)\n",
    "sol2=(-b+cmath.sqrt(d))/(2*a)\n",
    "\n",
    "print('The solution are {0} and {1}'.format(sol1,sol2))"
   ]
  },
  {
   "cell_type": "code",
   "execution_count": 22,
   "metadata": {},
   "outputs": [
    {
     "name": "stdout",
     "output_type": "stream",
     "text": [
      "The swaped value of a is 6 and b is  9\n"
     ]
    }
   ],
   "source": [
    "#Python Program to Swap two variables\n",
    "a=int(input('Enter the value of the first variable:'))\n",
    "b=int(input(\"Enter the value of the second variable:\"))\n",
    "\n",
    "a=a+b\n",
    "b=a-b\n",
    "a=a-b\n",
    "print('The swaped value of a is {0} and b is  {1}'.format(a,b))"
   ]
  },
  {
   "cell_type": "code",
   "execution_count": 27,
   "metadata": {},
   "outputs": [
    {
     "name": "stdout",
     "output_type": "stream",
     "text": [
      "426671665\n"
     ]
    }
   ],
   "source": [
    "#Python Program to Generate a Random Number\n",
    "#Program to generate a random number between 0 and 9\n",
    "import random\n",
    "print(random.randint(0,900000000))\n"
   ]
  },
  {
   "cell_type": "code",
   "execution_count": 29,
   "metadata": {},
   "outputs": [
    {
     "name": "stdout",
     "output_type": "stream",
     "text": [
      "34.00 kilometers is equal to 21.13 miles\n"
     ]
    }
   ],
   "source": [
    "#Python Program to convert Kilometers to Miles\n",
    "Kilometers = float(input('Enter the value in kilometers: '))\n",
    "conversion_factor=0.621371\n",
    "miles= Kilometers * conversion_factor\n",
    "print('%0.2f kilometers is equal to %0.2f miles'%(Kilometers, miles))\n"
   ]
  },
  {
   "cell_type": "code",
   "execution_count": 31,
   "metadata": {},
   "outputs": [
    {
     "name": "stdout",
     "output_type": "stream",
     "text": [
      "37.5 degree Celcius is equal to 99.5 degree Fahrenheit\n"
     ]
    }
   ],
   "source": [
    "#Python program to convert Celsius to Fahrenheit\n",
    "celcius=float(input('Enter the value of Temperature in Celcius: '))\n",
    "fahrenheit = (celcius * 1.8) +32\n",
    "print('%0.1f degree Celcius is equal to %0.1f degree Fahrenheit'%(celcius,fahrenheit))"
   ]
  },
  {
   "cell_type": "code",
   "execution_count": 40,
   "metadata": {},
   "outputs": [
    {
     "name": "stdout",
     "output_type": "stream",
     "text": [
      "The given number is Positive\n"
     ]
    }
   ],
   "source": [
    "#Python program to check if a Number is Positive, Negative or 0\n",
    "\n",
    "num=float(input('Enter a number: '))\n",
    "if (num>0):\n",
    "    print(\"The given number is Positive\")\n",
    "elif (num<0):\n",
    "    print(\"The given number is negative\")\n",
    "elif (num==0):\n",
    "    print(\"The given number is 0.\")"
   ]
  },
  {
   "cell_type": "code",
   "execution_count": 8,
   "metadata": {},
   "outputs": [
    {
     "name": "stdout",
     "output_type": "stream",
     "text": [
      "11 is an ODD number\n"
     ]
    }
   ],
   "source": [
    "#Python Program to check if the given number is a odd or even.\n",
    "num=int(input('Enter the value of Number:'))\n",
    "if (num % 2 == 0):\n",
    "    print(\"{0} is even number\".format(num))\n",
    "if (num %2 != 0):\n",
    "    print(\"{0} is an ODD number\".format(num))"
   ]
  },
  {
   "cell_type": "code",
   "execution_count": 2,
   "metadata": {},
   "outputs": [
    {
     "name": "stdout",
     "output_type": "stream",
     "text": [
      "1990 is not a Leap Year\n"
     ]
    }
   ],
   "source": [
    "#Python Program to check Leap Year\n",
    "year=int(input('Enter the Year:'))\n",
    "if (year % 400 == 0) and (year % 100 ==0):\n",
    "    print(\"{0} is a Leap Year\".format(year))\n",
    "elif (year % 4 == 0) and (year % 100 !=0):\n",
    "    print(\"{0} is a Leap Year\".format(year))\n",
    "else:\n",
    "    print(\"{0} is not a Leap Year\".format(year))"
   ]
  },
  {
   "cell_type": "code",
   "execution_count": 12,
   "metadata": {},
   "outputs": [
    {
     "name": "stdout",
     "output_type": "stream",
     "text": [
      "The Largest Number is : 9999\n"
     ]
    }
   ],
   "source": [
    "#Python Program to Find the Largest Among three Number\n",
    "a=int(input('Enter the first Number: '))\n",
    "b=int(input('Enter the second Number: '))\n",
    "c=int(input('Enter the third Number: '))\n",
    "\n",
    "list1=[a,b,c]\n",
    "list2=sorted(list1)\n",
    "li=list2[-1]\n",
    "print(f'The Largest Number is : {li}'.format(li))"
   ]
  },
  {
   "cell_type": "code",
   "execution_count": 1,
   "metadata": {},
   "outputs": [
    {
     "name": "stdout",
     "output_type": "stream",
     "text": [
      "The Largest Number is 789.0\n"
     ]
    }
   ],
   "source": [
    "#2nd way Python Program to Find the Largest Among the Three Numbers\n",
    "\n",
    "num1=float(input(\"Enter the First Number: \"))\n",
    "num2=float(input(\"Enter the Second Number: \"))\n",
    "num3=float(input(\"Enter the third number: \"))\n",
    "\n",
    "if (num1 >= num2) and (num1 >= num3 ):\n",
    "    largest = num1\n",
    "elif(num2 >= num1) and (num2 >= num3):\n",
    "    largest = num2\n",
    "else:\n",
    "    largest=num3\n",
    "print(\"The Largest Number is\", largest)\n"
   ]
  },
  {
   "cell_type": "code",
   "execution_count": 13,
   "metadata": {},
   "outputs": [
    {
     "name": "stdout",
     "output_type": "stream",
     "text": [
      "98 is not a Prime Number\n"
     ]
    }
   ],
   "source": [
    "#Python Program to check Prime Number\n",
    "num=int(input(\"Enter the value of number: \"))\n",
    "if num > 1:\n",
    "    for i in range(2,(num//2)+1):\n",
    "        if (num % i) ==0:\n",
    "            print(num, \"is not a Prime Number\")\n",
    "            break\n",
    "    else:\n",
    "        print(num, \"is a Prime Number\")\n",
    "            \n",
    "else:\n",
    "    print(num, \"is not a Prime NUmber\")"
   ]
  },
  {
   "cell_type": "code",
   "execution_count": 16,
   "metadata": {},
   "outputs": [
    {
     "name": "stdout",
     "output_type": "stream",
     "text": [
      "7 is a Prime Number\n"
     ]
    }
   ],
   "source": [
    "#2nd Way Python Program to find the Prime Number\n",
    "num=int(input(\"Enter the value of number: \"))\n",
    "flag=False\n",
    "if num==1:\n",
    "    print(num, \"is not a Prime Number\")\n",
    "elif num >1:\n",
    "    for i in range(2,num):\n",
    "        if (num % i) == 0:\n",
    "            flag=True\n",
    "        break\n",
    "    if flag:\n",
    "        print(num, \"is not a Prime Number\")\n",
    "    else:\n",
    "        print(num, \"is a Prime Number\")"
   ]
  },
  {
   "cell_type": "code",
   "execution_count": 19,
   "metadata": {},
   "outputs": [
    {
     "name": "stdout",
     "output_type": "stream",
     "text": [
      "79 is a Prime Number\n"
     ]
    }
   ],
   "source": [
    "#3 &Improved Way to find the Prime Number\n",
    "num=int(input(\"Enter the number for checking Prime Number: \"))\n",
    "if num==0:\n",
    "    print(num,\"is not a Prime NUmber.\")\n",
    "elif num > 0:\n",
    "    for i in range(2, num):\n",
    "        if (num%2)==0:\n",
    "            print(num, \"is not a Prime Number\")\n",
    "            print(i,\"times\", num//i,\"is\",num)\n",
    "            break\n",
    "    else:\n",
    "        print(num, \"is a Prime Number\")\n",
    "else:\n",
    "    print(num,\"is not a Prime Number\")\n"
   ]
  },
  {
   "cell_type": "code",
   "execution_count": 29,
   "metadata": {},
   "outputs": [
    {
     "name": "stdout",
     "output_type": "stream",
     "text": [
      "Prime numbers between 4 and 99 are:\n",
      "5,7,11,13,17,19,23,29,31,37,41,43,47,53,59,61,67,71,73,79,83,89,97,"
     ]
    }
   ],
   "source": [
    "#Python Program to display all the Prime Numbers within an interval\n",
    "lower=int(input('Enter the lower range value: '))\n",
    "upper=int(input(\"Enter the upper range value: \"))\n",
    "\n",
    "print(\"Prime numbers between\",lower,\"and\",upper,\"are:\")\n",
    "\n",
    "for num in range(lower,upper+1):\n",
    "    if num > 1:\n",
    "        for i in range(2,num):\n",
    "            if (num % i) == 0:\n",
    "                break\n",
    "        else:\n",
    "            print(num, end=\",\")"
   ]
  },
  {
   "cell_type": "code",
   "execution_count": 35,
   "metadata": {},
   "outputs": [
    {
     "name": "stdout",
     "output_type": "stream",
     "text": [
      "1,2,3,6,13,26,39,78,"
     ]
    }
   ],
   "source": [
    "#Python Program to Find the Factors of a Number\n",
    "num=int(input(\"Enter the value of number of which you want to find factorial: \"))\n",
    "for i in range(1,num+1):\n",
    "    if (num % i) == 0:\n",
    "        print(i, end=\",\")"
   ]
  },
  {
   "cell_type": "code",
   "execution_count": 40,
   "metadata": {},
   "outputs": [
    {
     "name": "stdout",
     "output_type": "stream",
     "text": [
      "The Factorial of 9 is 362880\n"
     ]
    }
   ],
   "source": [
    "#Python Program to Find the Factorial of a Number\n",
    "num=int(input(\"Enter the value of number: \"))\n",
    "factorial = 1\n",
    "if num < 0:\n",
    "    print(\"Sorry, factorial does not exist for the negative numbers\")\n",
    "elif num == 0:\n",
    "    print(\"The Factorial of 0 is 1\")\n",
    "else:\n",
    "    for i in range(1,num+1):\n",
    "        factorial=factorial*i\n",
    "    print(\"The Factorial of\",num,\"is\",factorial)"
   ]
  },
  {
   "cell_type": "code",
   "execution_count": 43,
   "metadata": {},
   "outputs": [
    {
     "name": "stdout",
     "output_type": "stream",
     "text": [
      "The Factorial of 10 is 3628800\n"
     ]
    }
   ],
   "source": [
    "#Python Program to find the Factorial of a NUmber using Recursion\n",
    "def factorial(x):\n",
    "    \"\"\"This is a recursive function to find the \n",
    "    factorial of an integer\"\"\"\n",
    "    if x == 1:\n",
    "        return 1\n",
    "    else:\n",
    "        return(x*factorial(x-1))\n",
    "num=int(input('Enter the value of num: '))\n",
    "result=factorial(num)\n",
    "print(\"The Factorial of\",num,\"is\",result)"
   ]
  },
  {
   "cell_type": "code",
   "execution_count": 52,
   "metadata": {},
   "outputs": [
    {
     "name": "stdout",
     "output_type": "stream",
     "text": [
      "The Multiplication Table of 19 is\n",
      "19 x 1 = 19\n",
      "19 x 2 = 38\n",
      "19 x 3 = 57\n",
      "19 x 4 = 76\n",
      "19 x 5 = 95\n",
      "19 x 6 = 114\n",
      "19 x 7 = 133\n",
      "19 x 8 = 152\n",
      "19 x 9 = 171\n",
      "19 x 10 = 190\n"
     ]
    }
   ],
   "source": [
    "#Python Program to Display the Multiplication Table\n",
    "num=int(input(\"Enter the value of number, whose multiplication table you want to display: \"))\n",
    "print(f\"The Multiplication Table of {num} is\".format(num))\n",
    "for i in range(1,11):\n",
    "    mul=num*i\n",
    "\n",
    "    print(num, \"x\" ,i,'=', mul)\n"
   ]
  },
  {
   "cell_type": "code",
   "execution_count": 54,
   "metadata": {},
   "outputs": [
    {
     "name": "stdout",
     "output_type": "stream",
     "text": [
      "16 x 1 = 16\n",
      "16 x 2 = 32\n",
      "16 x 3 = 48\n",
      "16 x 4 = 64\n",
      "16 x 5 = 80\n",
      "16 x 6 = 96\n",
      "16 x 7 = 112\n",
      "16 x 8 = 128\n",
      "16 x 9 = 144\n",
      "16 x 10 = 160\n"
     ]
    }
   ],
   "source": [
    "#2nd Way Python Program to Display the Multiplication Table\n",
    "num=int(input(\"Enter the value of num for which you want to print Multiplication Table\"))\n",
    "for i in range(1,11):\n",
    "    print(num, 'x' ,i, '=' ,num*i)"
   ]
  },
  {
   "cell_type": "code",
   "execution_count": 56,
   "metadata": {},
   "outputs": [
    {
     "name": "stdout",
     "output_type": "stream",
     "text": [
      "Fibonacci Sequence:\n",
      "0\n",
      "1\n",
      "1\n",
      "2\n",
      "3\n",
      "5\n",
      "8\n",
      "13\n",
      "21\n"
     ]
    }
   ],
   "source": [
    "#Python Program to Print the Fibonacci Sequence\n",
    "#Fibonacci Sequence=0,1,1,2,3,5,8,13,21.....(Each number is the sum of 2 preeciding numbers)\n",
    "nterms=int(input(\"How many Terms? \"))\n",
    "n1,n2=0,1\n",
    "count=0\n",
    "if nterms <= 0:\n",
    "    print(\"Please enter a positive number\")\n",
    "elif nterms == 1:\n",
    "    print(\"Fibonacci Series upto\",nterms,\":\")\n",
    "    print(n1)\n",
    "else: \n",
    "    print(\"Fibonacci Sequence:\")\n",
    "    while count < nterms:\n",
    "        print(n1)\n",
    "        nth=n1+n2\n",
    "        n1=n2\n",
    "        n2=nth\n",
    "        count+=1"
   ]
  },
  {
   "cell_type": "code",
   "execution_count": 60,
   "metadata": {},
   "outputs": [
    {
     "name": "stdout",
     "output_type": "stream",
     "text": [
      "789 is not an Armstrong number\n"
     ]
    }
   ],
   "source": [
    "#Python Program to check if the number is an Armstrong number\n",
    "#Armstrong number of 3 digits, the sum of cubes of each digit is equal to the number itself.\n",
    "#e.g. 153= 1*1*1 + 5*5*5 + 3*3*3 , 153 is a Armstrong Number\n",
    "\n",
    "num=int(input(\"Enter the value of a number: \"))\n",
    "sum=0\n",
    "temp = num\n",
    "while temp>0:\n",
    "    digit=temp%10\n",
    "    sum += digit ** 3\n",
    "    temp //= 10\n",
    "\n",
    "if num == sum:\n",
    "    print(num,\"is an Armstrong Number\")\n",
    "else:\n",
    "    print(num,\"is not an Armstrong number\")"
   ]
  },
  {
   "cell_type": "code",
   "execution_count": 63,
   "metadata": {},
   "outputs": [
    {
     "name": "stdout",
     "output_type": "stream",
     "text": [
      "5478 is not an Armstrong Number\n"
     ]
    }
   ],
   "source": [
    "#2nd Way Python Program to check if the given number is an Armstrong Number of n digits\n",
    "num=int(input(\"Enter the value of n: \"))\n",
    "order=len(str(num))\n",
    "sum=0\n",
    "temp=num\n",
    "while temp>0:\n",
    "    digit=num%10\n",
    "    sum+=digit ** order\n",
    "    temp //= 10\n",
    "if num == sum:\n",
    "    print(num, 'is an Armstrong Number.')\n",
    "else:\n",
    "    print(num,\"is not an Armstrong Number\")"
   ]
  },
  {
   "cell_type": "code",
   "execution_count": 72,
   "metadata": {},
   "outputs": [
    {
     "name": "stdout",
     "output_type": "stream",
     "text": [
      "153\n",
      "370\n",
      "371\n",
      "407\n",
      "1634\n"
     ]
    }
   ],
   "source": [
    "#Python Program to Find Armstrong Number in an interval\n",
    "lower=int(input(\"Enter the lower range of interval: \"))\n",
    "upper=int(input(\"Enter the upper range of interval: \"))\n",
    "for i in range(lower,upper+1):\n",
    "    sum=0\n",
    "    temp=i\n",
    "    order=len(str(i))\n",
    "    while temp>0:\n",
    "        digit=temp%10\n",
    "        sum += digit**order\n",
    "        temp //= 10\n",
    "    \n",
    "    if i == sum:\n",
    "        \n",
    "        print(i)"
   ]
  },
  {
   "cell_type": "code",
   "execution_count": 77,
   "metadata": {},
   "outputs": [
    {
     "name": "stdout",
     "output_type": "stream",
     "text": [
      "The sum of the natural numbers till 5 is 15\n"
     ]
    }
   ],
   "source": [
    "#Python Program to find the Sum of Natural Numbrs\n",
    "num=int(input(\"Enter the natural number upto which you want the sum: \"))\n",
    "sum=0\n",
    "if num<0:\n",
    "    print(\"Please enter the positive number (num>0)\")\n",
    "else:\n",
    "    for i in range(1,num+1):\n",
    "        sum=sum+i\n",
    "    print(f'The sum of the natural numbers till {num} is {sum}'.format(num,sum))\n"
   ]
  },
  {
   "cell_type": "code",
   "execution_count": 79,
   "metadata": {},
   "outputs": [
    {
     "name": "stdout",
     "output_type": "stream",
     "text": [
      "The sum is 1035\n"
     ]
    }
   ],
   "source": [
    "#2nd Way Python Program to find the sum of Natural Numbers\n",
    "num=int(input(\"Enter the number: \"))\n",
    "if num < 0:\n",
    "    print(\"Enter a positive number\")\n",
    "else:\n",
    "    sum=0\n",
    "    while (num > 0):\n",
    "        sum += num\n",
    "        num -= 1\n",
    "    print(\"The sum is\", sum)"
   ]
  },
  {
   "cell_type": "code",
   "execution_count": 81,
   "metadata": {},
   "outputs": [
    {
     "name": "stdout",
     "output_type": "stream",
     "text": [
      "The Total Terms are:  11\n",
      "2 raised to the power 0 is 1\n",
      "2 raised to the power 1 is 2\n",
      "2 raised to the power 2 is 4\n",
      "2 raised to the power 3 is 8\n",
      "2 raised to the power 4 is 16\n",
      "2 raised to the power 5 is 32\n",
      "2 raised to the power 6 is 64\n",
      "2 raised to the power 7 is 128\n",
      "2 raised to the power 8 is 256\n",
      "2 raised to the power 9 is 512\n",
      "2 raised to the power 10 is 1024\n"
     ]
    }
   ],
   "source": [
    "#Python Program to Display Power of 2 Using Anonymous Function\n",
    "terms=int(input(\"How many terms? \"))\n",
    "result=list(map(lambda x : 2**x, range(terms)))\n",
    "print(\"The Total Terms are: \",terms)\n",
    "for i in range(terms):\n",
    "    print(\"2 raised to the power\", i,\"is\",result[i])"
   ]
  },
  {
   "cell_type": "code",
   "execution_count": 85,
   "metadata": {},
   "outputs": [
    {
     "name": "stdout",
     "output_type": "stream",
     "text": [
      "2 raised to power 0 is 1\n",
      "2 raised to power 1 is 2\n",
      "2 raised to power 2 is 4\n",
      "2 raised to power 3 is 8\n",
      "2 raised to power 4 is 16\n",
      "2 raised to power 5 is 32\n",
      "2 raised to power 6 is 64\n",
      "2 raised to power 7 is 128\n",
      "2 raised to power 8 is 256\n",
      "2 raised to power 9 is 512\n",
      "2 raised to power 10 is 1024\n",
      "2 raised to power 11 is 2048\n",
      "2 raised to power 12 is 4096\n",
      "2 raised to power 13 is 8192\n",
      "2 raised to power 14 is 16384\n"
     ]
    }
   ],
   "source": [
    "#2nd way Python Program to Display Powers of 2 Using Anonymous Function\n",
    "terms=int(input(\"Enter the total terms: \"))\n",
    "for i in range(terms):\n",
    "    result=2**i\n",
    "    print(\"2 raised to power\",i,\"is\",result)"
   ]
  },
  {
   "cell_type": "code",
   "execution_count": 88,
   "metadata": {},
   "outputs": [
    {
     "name": "stdout",
     "output_type": "stream",
     "text": [
      "Numbers are divisible by 13 are 65\n",
      "Numbers are divisible by 13 are 39\n",
      "Numbers are divisible by 13 are 221\n"
     ]
    }
   ],
   "source": [
    "#Python Program to Find Numbers Divisible by Another Number\n",
    "num=int(input(\"Enter the value of the number: \"))\n",
    "my_list=[12,65,54,39,102,339,221]\n",
    "for i in my_list:\n",
    "    if i % num == 0:\n",
    "\n",
    "        print(f\"Numbers are divisible by {num} are\".format(num),i)"
   ]
  },
  {
   "cell_type": "code",
   "execution_count": 91,
   "metadata": {},
   "outputs": [
    {
     "name": "stdout",
     "output_type": "stream",
     "text": [
      "Numbers divisible by 13 are [65, 39, 221]\n"
     ]
    }
   ],
   "source": [
    "#2nd Way Python Program to Find the Numbers Divisible by Another Number\n",
    "num=int(input(\"Enter the number from which list should be divisible: \"))\n",
    "my_list=[12,65,54,39,102,339,221]\n",
    "result=list(filter(lambda x:( x % num == 0),my_list))\n",
    "print(f\"Numbers divisible by {num} are\".format(num), result)"
   ]
  },
  {
   "cell_type": "code",
   "execution_count": 93,
   "metadata": {},
   "outputs": [
    {
     "name": "stdout",
     "output_type": "stream",
     "text": [
      "The decimal value of 334 is:\n",
      "0b101001110 in binary.\n",
      "0o516 is octal.\n",
      "0x14e is hexadecimal.\n"
     ]
    }
   ],
   "source": [
    "#Python Program to convert Decimal to Binary, Octal and Hexadecimal\n",
    "#We have to use built in Functions like bin(),oct(),hex()\n",
    "dec=int(input(\"Enter the value of the Decimal number: \"))\n",
    "print(\"The decimal value of\", dec, \"is:\")\n",
    "print(bin(dec), \"in binary.\")\n",
    "print(oct(dec), \"is octal.\")\n",
    "print(hex(dec), \"is hexadecimal.\")"
   ]
  },
  {
   "cell_type": "code",
   "execution_count": 96,
   "metadata": {},
   "outputs": [
    {
     "name": "stdout",
     "output_type": "stream",
     "text": [
      "The ASCII value of A is 65\n"
     ]
    }
   ],
   "source": [
    "#Python Program to find the ASCII Value of Character\n",
    "#We have to use bult in function: ord() to convert a character into an integer (ASCII Value)\n",
    "#This function return the Unicode code point of that character.\n",
    "charr=input(\"Enter the character value for which you want ASCII Value: \")\n",
    "print(f\"The ASCII value of {charr}\".format(charr), \"is\", ord(charr))"
   ]
  },
  {
   "cell_type": "code",
   "execution_count": 101,
   "metadata": {},
   "outputs": [
    {
     "name": "stdout",
     "output_type": "stream",
     "text": [
      "The H.C.F of 24 and 54 is  6\n"
     ]
    }
   ],
   "source": [
    "#Python Program to Find HCF or GCD\n",
    "def compute_hcf(x,y):\n",
    "    if x > y:\n",
    "        smaller = y\n",
    "    else: \n",
    "        smaller = x\n",
    "    for i in range(1, smaller+1):\n",
    "        if((x % i == 0) and (y % i ==0)):\n",
    "            hcf=i\n",
    "    return hcf\n",
    "num1=int(input(\"Enter the value of first number: \"))\n",
    "num2=int(input(\"Enter the value of the second number: \"))\n",
    "print(f\"The H.C.F of {num1} and {num2} is \".format(num1,num2), compute_hcf(num1,num2))"
   ]
  },
  {
   "cell_type": "code",
   "execution_count": 103,
   "metadata": {},
   "outputs": [
    {
     "name": "stdout",
     "output_type": "stream",
     "text": [
      "The HCF is 25\n"
     ]
    }
   ],
   "source": [
    "#Python Program to Find HCF or GCD using Euclidian Algorithm\n",
    "def compute_hcf(x, y):\n",
    "    while(y):\n",
    "        x,y=y,x%y\n",
    "    return x\n",
    "num1=int(input(\"Enter the value of first number: \"))\n",
    "num2=int(input(\"Enter the value of the second number: \"))\n",
    "hcf=compute_hcf(num1,num2)\n",
    "print(\"The HCF is\", hcf)"
   ]
  },
  {
   "cell_type": "code",
   "execution_count": 108,
   "metadata": {},
   "outputs": [
    {
     "name": "stdout",
     "output_type": "stream",
     "text": [
      "The LCM is 216\n"
     ]
    }
   ],
   "source": [
    "#Python Program to Find the LCM\n",
    "def compute_lcm(x,y):\n",
    "    if x > y:\n",
    "        greater = x\n",
    "    else:\n",
    "        greater = y\n",
    "\n",
    "    while(True):\n",
    "        if((greater % x == 0) and (greater % y == 0)):\n",
    "            lcm = greater\n",
    "            break\n",
    "        greater += 1\n",
    "\n",
    "    return lcm\n",
    "\n",
    "num1=int(input(\"Enter the value of first number: \"))\n",
    "num2=int(input(\"Enter the value of the second number: \"))\n",
    "hcf=compute_lcm(num1,num2)\n",
    "print(\"The LCM is\", compute_lcm(num1,num2))"
   ]
  },
  {
   "cell_type": "code",
   "execution_count": 110,
   "metadata": {},
   "outputs": [
    {
     "name": "stdout",
     "output_type": "stream",
     "text": [
      "1\n",
      "3\n",
      "9\n"
     ]
    }
   ],
   "source": [
    "#Python Program to find the Factors of a Number\n",
    "num=int(input(\"Enter the value of the number: \"))\n",
    "for i in range(1,num+1):\n",
    "    if (num % i) == 0:\n",
    "        print(i)"
   ]
  },
  {
   "cell_type": "code",
   "execution_count": 2,
   "metadata": {},
   "outputs": [
    {
     "name": "stdout",
     "output_type": "stream",
     "text": [
      "Select the operation you want to perform. \n",
      "1.Add\n",
      "2.Substract\n",
      "3.Multiply\n",
      "4.Divide\n",
      "6.0 / 5.0 = 1.2\n"
     ]
    }
   ],
   "source": [
    "#Python Program to make a Simple Calculator\n",
    "def add(x,y):\n",
    "    return x + y\n",
    "def substract(x,y):\n",
    "    return x - y\n",
    "def multiply(x,y):\n",
    "    return x*y\n",
    "def divide(x,y):\n",
    "    return x/y\n",
    "\n",
    "print(\"Select the operation you want to perform. \")\n",
    "print(\"1.Add\")\n",
    "print(\"2.Substract\")\n",
    "print(\"3.Multiply\")\n",
    "print(\"4.Divide\")\n",
    "\n",
    "while True:\n",
    "    choice=input(\"Enter the choice(1/2/3/4): \")\n",
    "    if choice in ('1','2','3','4'):\n",
    "        try:\n",
    "            num1=float(input(\"Enter the first number: \"))\n",
    "            num2=float(input(\"Enter the second number: \"))\n",
    "        except ValueError:\n",
    "            print(\"INVALID INPUT. Please enter a number.\")\n",
    "            continue\n",
    "        if choice == '1':\n",
    "            print(num1,\"+\",num2,\"=\", add(num1,num2))\n",
    "        elif choice == '2':\n",
    "            print(num1, \"-\", num2, \"=\", substract(num1,num2))\n",
    "        elif choice == '3':\n",
    "            print(num1, \"*\", num2, \"=\", multiply(num1,num2))\n",
    "        elif choice == '4':\n",
    "            print(num1, \"/\", num2, \"=\", divide(num1,num2))\n",
    "        \n",
    "        next_calculation = input(\"Let's do the next caldulation? (yes/No): \")\n",
    "        if next_calculation == \"no\":\n",
    "            break\n",
    "    else:\n",
    "        print(\"Invalid Input\")\n",
    "        "
   ]
  },
  {
   "cell_type": "code",
   "execution_count": 5,
   "metadata": {},
   "outputs": [
    {
     "name": "stdout",
     "output_type": "stream",
     "text": [
      "You got: \n",
      "3 of Heart\n",
      "4 of Heart\n",
      "2 of Heart\n",
      "13 of Heart\n",
      "5 of Heart\n"
     ]
    }
   ],
   "source": [
    "#Python Program to shuffle a deck of card\n",
    "import itertools, random\n",
    "deck = list(itertools.product(range(1,14),['Spade','Heart','Diamond','Club']))\n",
    "random.shuffle(deck)\n",
    "print(\"You got: \")\n",
    "for i in range(5):\n",
    "    print(deck[i][0], \"of\", deck[1][1])"
   ]
  },
  {
   "cell_type": "code",
   "execution_count": 8,
   "metadata": {},
   "outputs": [
    {
     "name": "stdout",
     "output_type": "stream",
     "text": [
      "     June 1998\n",
      "Mo Tu We Th Fr Sa Su\n",
      " 1  2  3  4  5  6  7\n",
      " 8  9 10 11 12 13 14\n",
      "15 16 17 18 19 20 21\n",
      "22 23 24 25 26 27 28\n",
      "29 30\n",
      "\n"
     ]
    }
   ],
   "source": [
    "import calendar\n",
    "yy=int(input(\"Enter the value of the year: \"))\n",
    "mm=int(input(\"Enter the value of the month. \"))\n",
    "print(calendar.month(yy, mm))"
   ]
  },
  {
   "cell_type": "code",
   "execution_count": 18,
   "metadata": {},
   "outputs": [
    {
     "name": "stdout",
     "output_type": "stream",
     "text": [
      "Fibonacci Series:\n",
      "0,1,1,2,3,5,8,13,21,34,55,89,144,233,377,610,987,1597,2584,4181,6765,10946,17711,28657,46368,75025,121393,196418,317811,514229,"
     ]
    }
   ],
   "source": [
    "#Python Program to Display Fibonacci Sequence Using Recursion\n",
    "#Fibonacci Series = 0,1,1,2,3,5,8,13,21...\n",
    "#Print the Fibonacci Series upto a given number as given by user\n",
    "def recur_fibonacci(n):\n",
    "    if n<= 1:\n",
    "        return n\n",
    "    else:\n",
    "        return recur_fibonacci(n-1) + recur_fibonacci(n-2)\n",
    "    \n",
    "nterms=int(input(\"Enter the value of n upto which you want to print the Fibonacci Series: \"))\n",
    "if nterms <= 0:\n",
    "    print(\"Please enter the positive integer\")\n",
    "else:\n",
    "    print(\"Fibonacci Series:\")\n",
    "    for i in range(nterms):\n",
    "        print(recur_fibonacci(i),end=\",\")"
   ]
  },
  {
   "cell_type": "code",
   "execution_count": 20,
   "metadata": {},
   "outputs": [
    {
     "name": "stdout",
     "output_type": "stream",
     "text": [
      "The sum is  45\n"
     ]
    }
   ],
   "source": [
    "#Python Program to find the sum of Natural numbers using Recursion\n",
    "def sum_naturalnum(n):\n",
    "    if n<=1:\n",
    "        return n\n",
    "    else:\n",
    "        return n + sum_naturalnum(n-1)\n",
    "nterms=int(input(\"Enter the value of no. upto which you want the sum of the naturla numbers: \"))\n",
    "if nterms < 0:\n",
    "    print(\"Please Enter the positive number.\")\n",
    "else:\n",
    "    print(\"The sum is \",sum_naturalnum(nterms))  "
   ]
  },
  {
   "cell_type": "code",
   "execution_count": 22,
   "metadata": {},
   "outputs": [
    {
     "name": "stdout",
     "output_type": "stream",
     "text": [
      "The factorial is  5040\n"
     ]
    }
   ],
   "source": [
    "#Python Program to find the Factorial of Number using Recursion\n",
    "def factorial(n):\n",
    "    if n<=1:\n",
    "        return n\n",
    "    else:\n",
    "        return n * factorial(n-1)\n",
    "    \n",
    "num = int(input(\"Enter the value of num: \"))\n",
    "if num < 0 :\n",
    "    print(\"Factorial does not exist for the negative number\")\n",
    "elif num == 0:\n",
    "    print(\"The factorial of 0 is 1\")\n",
    "else:\n",
    "    print(\"The factorial is \",factorial(num))"
   ]
  },
  {
   "cell_type": "code",
   "execution_count": 25,
   "metadata": {},
   "outputs": [
    {
     "name": "stdout",
     "output_type": "stream",
     "text": [
      "The binary number is :  0b111\n"
     ]
    }
   ],
   "source": [
    "#Python Program to Convert Decimal to Binary Using recrusion\n",
    "def dec_to_bin(n):\n",
    "    if n == 0:\n",
    "        return n\n",
    "    else:\n",
    "        return bin(n)\n",
    "    \n",
    "dec=int(input(\"Enter the decimal numer which you want to convert to Binary: \"))\n",
    "if dec < 0:\n",
    "    print(\"Please Enter the positive number\")\n",
    "else:\n",
    "    print(\"The binary number is : \", dec_to_bin(dec))\n"
   ]
  },
  {
   "cell_type": "code",
   "execution_count": 27,
   "metadata": {},
   "outputs": [
    {
     "name": "stdout",
     "output_type": "stream",
     "text": [
      "100010\n"
     ]
    }
   ],
   "source": [
    "#2nd Way Python Program to Convert Decimal to Binary using recursion\n",
    "def convert2binary(n):\n",
    "    if n>1:\n",
    "        convert2binary(n//2)\n",
    "    print(n % 2,end='')\n",
    "dec=int(input(\"Enter the number to convert to the binary: \"))\n",
    "convert2binary(dec)\n",
    "print()"
   ]
  },
  {
   "cell_type": "code",
   "execution_count": 29,
   "metadata": {},
   "outputs": [
    {
     "name": "stdout",
     "output_type": "stream",
     "text": [
      "[10, 10, 10]\n",
      "[10, 10, 10]\n",
      "[10, 10, 10]\n"
     ]
    }
   ],
   "source": [
    "#Python Program to ADD two Matrices\n",
    "x=[[1,2,3],\n",
    "   [4,5,6],\n",
    "   [7,8,9]]\n",
    "\n",
    "y=[[9,8,7],\n",
    "   [6,5,4],\n",
    "   [3,2,1]]\n",
    "\n",
    "result=[[0,0,0],\n",
    "        [0,0,0],\n",
    "        [0,0,0]]\n",
    "\n",
    "for i in range(len(x)):\n",
    "    for j in range(len(x[0])):\n",
    "        result[i][j]=x[i][j]+y[i][j]\n",
    "for r in result:\n",
    "    print(r)"
   ]
  },
  {
   "cell_type": "code",
   "execution_count": 31,
   "metadata": {},
   "outputs": [
    {
     "name": "stdout",
     "output_type": "stream",
     "text": [
      "[1, 4, 9]\n",
      "[2, 5, 8]\n"
     ]
    }
   ],
   "source": [
    "#Python Program to Transpose a Matrix\n",
    "x=[[1,2],\n",
    "   [4,5],\n",
    "   [9,8]]\n",
    "transposex=[[0,0,0],\n",
    "            [0,0,0]]\n",
    "for i in range(len(x)):\n",
    "    for j in range(len(x[0])):\n",
    "        transposex[j][i]=x[i][j]\n",
    "\n",
    "for t in transposex:\n",
    "    print(t)"
   ]
  },
  {
   "cell_type": "code",
   "execution_count": 34,
   "metadata": {},
   "outputs": [
    {
     "name": "stdout",
     "output_type": "stream",
     "text": [
      "[62, 53]\n",
      "[106, 91]\n"
     ]
    }
   ],
   "source": [
    "#Python Program to Multiply two Matrices\n",
    "x=[[2,3,4],\n",
    "   [4,5,6]]\n",
    "\n",
    "y=[[9,8],\n",
    "   [8,7],\n",
    "   [5,4]]\n",
    "\n",
    "multiplyr=[[0,0],\n",
    "           [0,0]]\n",
    "\n",
    "for i in range(len(x)):\n",
    "    for j in range(len(y[0])):\n",
    "        for k in range(len(y)):\n",
    "            multiplyr[i][j] += x[i][k]*y[k][j]\n",
    "for i in multiplyr:\n",
    "    print(i)"
   ]
  },
  {
   "cell_type": "code",
   "execution_count": 36,
   "metadata": {},
   "outputs": [
    {
     "name": "stdout",
     "output_type": "stream",
     "text": [
      "Given String is not Palindrome.\n"
     ]
    }
   ],
   "source": [
    "#Python Program to check whether a string is Palindrome or NOT\n",
    "str1=input(\"Enter the value of the String: \")\n",
    "str1=str1.casefold()\n",
    "rev_str1=reversed(str1)\n",
    "if list(str1) == list(rev_str1):\n",
    "    print(\"The given string is Palindrome.\")\n",
    "else:\n",
    "    print(\"Given String is not Palindrome.\")"
   ]
  },
  {
   "cell_type": "code",
   "execution_count": 38,
   "metadata": {},
   "outputs": [
    {
     "name": "stdout",
     "output_type": "stream",
     "text": [
      "No, the given string is not Palindrome.\n"
     ]
    }
   ],
   "source": [
    "#2nd way Python Program to check whether a string is Palindrome or not\n",
    "def isPalindrome(s):\n",
    "    return s == s[::-1]\n",
    "s=input(\"Enter the value of the string.\")\n",
    "res=isPalindrome(s)\n",
    "\n",
    "if res:\n",
    "    print(\"Yes, given string is Palindrome.\")\n",
    "else:\n",
    "    print(\"No, the given string is not Palindrome.\")"
   ]
  },
  {
   "cell_type": "code",
   "execution_count": 40,
   "metadata": {},
   "outputs": [
    {
     "name": "stdout",
     "output_type": "stream",
     "text": [
      "Hello How are you\n"
     ]
    }
   ],
   "source": [
    "#Python Program to Remove Punctuations from a string\n",
    "punctuations=\"''!()-[]{}:;',<>.||/?@#$%^&*__~`\"\n",
    "my_str=input(\"Enter the value of the string.\")\n",
    "no_punct=\"\"\n",
    "for char in my_str:\n",
    "    if char not in punctuations:\n",
    "        no_punct += char\n",
    "\n",
    "print(no_punct)"
   ]
  }
 ],
 "metadata": {
  "kernelspec": {
   "display_name": "Python 3",
   "language": "python",
   "name": "python3"
  },
  "language_info": {
   "codemirror_mode": {
    "name": "ipython",
    "version": 3
   },
   "file_extension": ".py",
   "mimetype": "text/x-python",
   "name": "python",
   "nbconvert_exporter": "python",
   "pygments_lexer": "ipython3",
   "version": "3.12.4"
  }
 },
 "nbformat": 4,
 "nbformat_minor": 2
}
