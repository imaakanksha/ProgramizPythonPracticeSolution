{
 "cells": [
  {
   "cell_type": "code",
   "execution_count": 3,
   "metadata": {},
   "outputs": [
    {
     "name": "stdout",
     "output_type": "stream",
     "text": [
      "0\n",
      "1\n",
      "1\n",
      "2\n",
      "3\n",
      "5\n",
      "8\n",
      "13\n",
      "21\n"
     ]
    }
   ],
   "source": [
    "# Generate an infinite Fibonacci Series by using a Generator\n",
    "\n",
    "def fibonacci():\n",
    "    a,b=0,1\n",
    "    while True:\n",
    "        yield a\n",
    "\n",
    "        a,b=b,a+b\n",
    "\n",
    "f1=fibonacci()\n",
    "print(next(f1))\n",
    "print(next(f1))\n",
    "print(next(f1))\n",
    "print(next(f1))\n",
    "print(next(f1))\n",
    "print(next(f1))\n",
    "print(next(f1))\n",
    "print(next(f1))\n",
    "print(next(f1))"
   ]
  },
  {
   "cell_type": "code",
   "execution_count": 5,
   "metadata": {},
   "outputs": [
    {
     "name": "stdout",
     "output_type": "stream",
     "text": [
      "[1, 2, 6, 8, 10, 12, 19, 35, 41]\n"
     ]
    }
   ],
   "source": [
    "#Sort a List without using a Sort Keyword\n",
    "list1=[41,2,12,6,35,8,10,1,19]\n",
    "n=len(list1)\n",
    "\n",
    "for i in range(len(list1)):\n",
    "    for j in range(i+1,len(list1)):\n",
    "        if list1[i] > list1[j]:\n",
    "            list1[i],list1[j]=list1[j],list1[i]\n",
    "print(list1)"
   ]
  },
  {
   "cell_type": "code",
   "execution_count": 7,
   "metadata": {},
   "outputs": [
    {
     "name": "stdout",
     "output_type": "stream",
     "text": [
      "Yes, the string is Palindrome.\n",
      "Yes,the given string is Palindrome.\n"
     ]
    }
   ],
   "source": [
    "#Write a code to check whether A String is Palindrome or Not?\n",
    "\n",
    "s=\"akankshaahsknaka\"\n",
    "if s == s[::-1]:\n",
    "    print(\"Yes, the string is Palindrome.\")\n",
    "else:\n",
    "    print(\"No, the string is not Palindrome.\")\n",
    "\n",
    "#Alternative way to check whether a string is Palindrome or not?\n",
    "s=\"nitin\"\n",
    "n=len(s)\n",
    "x=0\n",
    "for i in range(len(s)):\n",
    "    if s[i] != s[n-i-1]:\n",
    "        x=1\n",
    "        break\n",
    "if x==0:\n",
    "    print(\"Yes,the given string is Palindrome.\")\n",
    "else:\n",
    "    print(\"NO,the given string is not Palindrome.\")"
   ]
  },
  {
   "cell_type": "code",
   "execution_count": 2,
   "metadata": {},
   "outputs": [
    {
     "name": "stdout",
     "output_type": "stream",
     "text": [
      "{132: 'Grapes', 575: 'Apple', 782: 'Banana', 876: 'Mango'}\n"
     ]
    }
   ],
   "source": [
    "#Sort A Dictonary / By using the Dict Comprehension\n",
    "#Sort A Dictonary\n",
    "dict1={575: \"Apple\", 876: \"Mango\", 132: \"Grapes\", 782: \"Banana\"}\n",
    "d = sorted(dict1.keys())\n",
    "dict2={}\n",
    "for i in d:\n",
    "    dict2[i] = dict1[i]\n",
    "print(dict2)"
   ]
  },
  {
   "cell_type": "code",
   "execution_count": 4,
   "metadata": {},
   "outputs": [
    {
     "name": "stdout",
     "output_type": "stream",
     "text": [
      "8 2\n",
      "7 3\n"
     ]
    }
   ],
   "source": [
    "#Find the Pair with the given number in a list\n",
    "#Print all the pairs with the given sum\n",
    "list1=[8,7,2,5,3,1]\n",
    "n=len(list1)\n",
    "k=10 \n",
    "for i in range(n):\n",
    "    for j in range(i+1,n):\n",
    "        if (list1[i]+list1[j]) == k:\n",
    "            print(list1[i],list1[j])"
   ]
  },
  {
   "cell_type": "code",
   "execution_count": 7,
   "metadata": {},
   "outputs": [
    {
     "name": "stdout",
     "output_type": "stream",
     "text": [
      "0,1,1,2,3,5,8,13,21,34,55,89,"
     ]
    }
   ],
   "source": [
    "#Create a Fibonacci Series by using Recursion (Fibonacci Series using recursion)\n",
    "def recur_fibo(n):\n",
    "    if n <= 1:\n",
    "        return n\n",
    "    else:\n",
    "        return recur_fibo(n-1) + recur_fibo(n-2)\n",
    "\n",
    "nterms = int(input(\"Till how many terms you want the fibonacci Series: \"))\n",
    "if nterms <= 0:\n",
    "    print(\"Please enter the positive value.\")\n",
    "else:\n",
    "    for i in range(nterms):\n",
    "        print(recur_fibo(i), end=\",\")"
   ]
  },
  {
   "cell_type": "code",
   "execution_count": 9,
   "metadata": {},
   "outputs": [
    {
     "name": "stdout",
     "output_type": "stream",
     "text": [
      "blue is sky the\n"
     ]
    }
   ],
   "source": [
    "#Find the required output\n",
    "#Input = \"the sky is blue\"\n",
    "#Output = \"blue is sky the\"\n",
    "s = \"the sky is blue\"\n",
    "l = s.split()\n",
    "l= l[::-1]\n",
    "l=' '.join(l)\n",
    "print(l)"
   ]
  },
  {
   "cell_type": "code",
   "execution_count": 11,
   "metadata": {},
   "outputs": [
    {
     "name": "stdout",
     "output_type": "stream",
     "text": [
      "apples are  found only red  green\n"
     ]
    }
   ],
   "source": [
    "#Remove the Punctuations (Except Space)\n",
    "str1 = \"/*apples are & found% only 0red & green\"\n",
    "s=''\n",
    "for i in str1:\n",
    "    if ((i>= 'A' and i<='Z') | (i >= 'a' and i <= 'z') | (i ==\" \")):\n",
    "        s += i\n",
    "print(s)"
   ]
  },
  {
   "cell_type": "code",
   "execution_count": 15,
   "metadata": {},
   "outputs": [
    {
     "name": "stdout",
     "output_type": "stream",
     "text": [
      "{'i': 4, 't': 2, 'a': 5, 'y': 1, 'h': 2}\n",
      "a\n"
     ]
    }
   ],
   "source": [
    "#Find the maximum repeated character in a String without having On2 Complexity\n",
    "#Time Complexity should be lesser than O(n2)\n",
    "s=\"itiaiaiytaahha\"\n",
    "ch={}\n",
    "for i in s:\n",
    "    if i in ch:\n",
    "        ch[i]+=1\n",
    "    else:\n",
    "        ch[i]=1\n",
    "print(ch)\n",
    "max_char=max(ch, key = ch.get)\n",
    "print(max_char)"
   ]
  },
  {
   "cell_type": "code",
   "execution_count": 18,
   "metadata": {},
   "outputs": [
    {
     "name": "stdout",
     "output_type": "stream",
     "text": [
      "Maxinum Number of the List: 370\n",
      "Mininum Number of the LIst:  0\n"
     ]
    }
   ],
   "source": [
    "#Find the maxinum and minimum value from a List without using any predefined function.\n",
    "l=[9,10,0,370,55,40,2]\n",
    "maxinum = l[0]\n",
    "mininum = l[0]\n",
    "\n",
    "for i in l:\n",
    "    if i > maxinum:\n",
    "        maxinum = i\n",
    "    if i < mininum:\n",
    "        mininum = i\n",
    "\n",
    "print(\"Maxinum Number of the List:\", maxinum)\n",
    "print(\"Mininum Number of the LIst: \", mininum)\n",
    "\n"
   ]
  },
  {
   "cell_type": "code",
   "execution_count": 20,
   "metadata": {},
   "outputs": [
    {
     "ename": "Exception",
     "evalue": "Exception: 1 is found",
     "output_type": "error",
     "traceback": [
      "\u001b[1;31m---------------------------------------------------------------------------\u001b[0m",
      "\u001b[1;31mException\u001b[0m                                 Traceback (most recent call last)",
      "Cell \u001b[1;32mIn[20], line 7\u001b[0m\n\u001b[0;32m      5\u001b[0m \u001b[38;5;28;01mfor\u001b[39;00m i \u001b[38;5;129;01min\u001b[39;00m l:\n\u001b[0;32m      6\u001b[0m     \u001b[38;5;28;01mif\u001b[39;00m i \u001b[38;5;241m==\u001b[39m \u001b[38;5;241m1\u001b[39m:\n\u001b[1;32m----> 7\u001b[0m         \u001b[38;5;28;01mraise\u001b[39;00m \u001b[38;5;167;01mException\u001b[39;00m(\u001b[38;5;124m\"\u001b[39m\u001b[38;5;124mException: 1 is found\u001b[39m\u001b[38;5;124m\"\u001b[39m)\n\u001b[0;32m      8\u001b[0m     \u001b[38;5;28;01melse\u001b[39;00m:\n\u001b[0;32m      9\u001b[0m         \u001b[38;5;28msum\u001b[39m\u001b[38;5;241m+\u001b[39m\u001b[38;5;241m=\u001b[39m\u001b[38;5;241m1\u001b[39m\n",
      "\u001b[1;31mException\u001b[0m: Exception: 1 is found"
     ]
    }
   ],
   "source": [
    "#Write a code to Raise an Exception\n",
    "#Raise Exception if Element is 1 in a list\n",
    "l=[1,2,3,4]\n",
    "sum=0\n",
    "for i in l:\n",
    "    if i == 1:\n",
    "        raise Exception(\"Exception: 1 is found\")\n",
    "    else:\n",
    "        sum+=1"
   ]
  },
  {
   "cell_type": "code",
   "execution_count": 6,
   "metadata": {},
   "outputs": [
    {
     "name": "stdout",
     "output_type": "stream",
     "text": [
      "No, the given string is not Palindrome.\n"
     ]
    }
   ],
   "source": [
    "#Write a Program to test whether a string is Palindrome or not. (using Slice and without using slice)\n",
    "s=input(\"Enter the value of the string for which you want to check it is Palindrome or not: \")\n",
    "s=s.lower()\n",
    "if s == s[::-1]:\n",
    "    print(\"Yes, the given string is Palindrome.\")\n",
    "else:\n",
    "    print(\"No, the given string is not Palindrome.\")"
   ]
  },
  {
   "cell_type": "code",
   "execution_count": 13,
   "metadata": {},
   "outputs": [
    {
     "name": "stdout",
     "output_type": "stream",
     "text": [
      "The given string is not Palindrome.\n"
     ]
    }
   ],
   "source": [
    "#2nd Way to Check the Palindrome without use of the Slice\n",
    "s=input(\"Enter the value of string for which you want to check if it is Palindrome or not: \")\n",
    "s=s.lower()\n",
    "x=0\n",
    "for i in range(len(s)):\n",
    "    if s[i] != s[len(s)-i-1]:\n",
    "        x += 1\n",
    "        break\n",
    "if x == 0:\n",
    "    print(\"The given string is Palindrome.\")\n",
    "else:\n",
    "    print(\"The given string is not Palindrome.\")"
   ]
  },
  {
   "cell_type": "code",
   "execution_count": 18,
   "metadata": {},
   "outputs": [
    {
     "name": "stdout",
     "output_type": "stream",
     "text": [
      "0,1,1,2,3,5,8,13,21,34,55,89,144,233,377,610,987,1597,2584,4181,"
     ]
    }
   ],
   "source": [
    "#To Print Fibonacci Series using recrusion\n",
    "def recur_fibo(n):\n",
    "    if n<=1:\n",
    "        return n\n",
    "    else:\n",
    "        return recur_fibo(n-1)+ recur_fibo(n-2)\n",
    "    \n",
    "nterms=int(input(\"The value of the number upto which you want to print Fibonacci Series: \"))\n",
    "if nterms <= 0:\n",
    "    print(\"Please enter the positive valuse.\")\n",
    "else:\n",
    "    for i in range(nterms):\n",
    "        print(recur_fibo(i), end=\",\")"
   ]
  },
  {
   "cell_type": "code",
   "execution_count": 20,
   "metadata": {},
   "outputs": [
    {
     "name": "stdout",
     "output_type": "stream",
     "text": [
      "Fibonacci Sequesnce:\n",
      "0,1,1,2,3,5,8,13,21,34,55,89,144,233,377,610,987,1597,2584,4181,"
     ]
    }
   ],
   "source": [
    "#To print the Fibonacci Series without recurstion\n",
    "nterms=int(input(\"How many terms you want to print Fibonacci Series: \"))\n",
    "n1,n2=0,1\n",
    "count=0\n",
    "if nterms <= 0:\n",
    "    print(\"Please enter the positive value.\")\n",
    "elif nterms == 1:\n",
    "    print(\"Fibonacci series upto to\",nterms,\"is: \")\n",
    "else:\n",
    "    print(\"Fibonacci Sequesnce:\")\n",
    "    while count < nterms:\n",
    "        print(n1, end=\",\")\n",
    "        nth = n1+n2\n",
    "        n1=n2\n",
    "        n2=nth\n",
    "        count += 1"
   ]
  },
  {
   "cell_type": "code",
   "execution_count": 25,
   "metadata": {},
   "outputs": [
    {
     "name": "stdout",
     "output_type": "stream",
     "text": [
      "{'q': 2, 'w': 1, 'e': 1, 'r': 2, 't': 2, 'y': 2, 'u': 3, 'i': 9, 'o': 3, 'p': 2, 'k': 2}\n",
      "i\n"
     ]
    }
   ],
   "source": [
    "#Write a Program to count the number of occurrences of a character in a string. Also, print characters and their count.\n",
    "s=input(\"Enter the value of string for which you want to count the number of character: \")\n",
    "c={}\n",
    "for i in s:\n",
    "    if i in c:\n",
    "        c[i] += 1\n",
    "    else:\n",
    "        c[i] = 1\n",
    "print(c)\n",
    "max_term = max(c, key = c.get)\n",
    "print(max_term)"
   ]
  },
  {
   "cell_type": "code",
   "execution_count": 29,
   "metadata": {},
   "outputs": [
    {
     "name": "stdout",
     "output_type": "stream",
     "text": [
      "The 2nd largest number is : 54\n"
     ]
    }
   ],
   "source": [
    "#Write the Python Program to print the Second Largest Number\n",
    "def second_largest_num(nums):\n",
    "    first_largest=float('-inf')\n",
    "    second_largest=float('-inf')\n",
    "\n",
    "    for num in nums:\n",
    "        if num > first_largest:\n",
    "            second_largest = first_largest\n",
    "            first_largest = num\n",
    "        elif num > second_largest and num != first_largest:\n",
    "            second_largest = num\n",
    "    if second_largest == float('inf'):\n",
    "        return None\n",
    "    else:\n",
    "        return second_largest\n",
    "    \n",
    "A=[22,33,22,66,0,11,54,12,2,9,8,1,4,6,4,7,8,9,2,3,2,3,6,7,8,9]\n",
    "second_largest=second_largest_num(A)\n",
    "if second_largest != None:\n",
    "    print(f\"The 2nd largest number is : {second_largest}\")\n",
    "\n",
    "else:\n",
    "    print(\"There is no second largest number.\")"
   ]
  },
  {
   "cell_type": "code",
   "execution_count": 31,
   "metadata": {},
   "outputs": [
    {
     "name": "stdout",
     "output_type": "stream",
     "text": [
      "The 2nd largest number is : 33\n"
     ]
    }
   ],
   "source": [
    "#Write the Python Program to find the 3rd largest number\n",
    "\n",
    "def third_largest_num(nums):\n",
    "    first_largest=float('-inf')\n",
    "    second_largest=float('-inf')\n",
    "    third_largest=float('-inf')\n",
    "\n",
    "    for num in nums:\n",
    "        if num > first_largest:\n",
    "            third_largest = second_largest\n",
    "            second_largest = first_largest\n",
    "            first_largest = num\n",
    "        elif num > second_largest and num != first_largest:\n",
    "            third_largest = second_largest\n",
    "            second_largest = num\n",
    "        elif num > third_largest and num!= second_largest and num != first_largest:\n",
    "            third_largest=num\n",
    "            \n",
    "    if third_largest == float('inf'):\n",
    "        return None\n",
    "    else:\n",
    "        return third_largest\n",
    "    \n",
    "A=[22,33,22,66,0,11,54,12,2,9,8,1,4,6,4,7,8,9,2,3,2,3,6,7,8,9]\n",
    "third_largest=third_largest_num(A)\n",
    "if third_largest != None:\n",
    "    print(f\"The 2nd largest number is : {third_largest}\")\n",
    "\n",
    "else:\n",
    "    print(\"There is no second largest number.\")"
   ]
  },
  {
   "cell_type": "code",
   "execution_count": 33,
   "metadata": {},
   "outputs": [
    {
     "name": "stdout",
     "output_type": "stream",
     "text": [
      "[1, 3, 6, 10, 15, 21, 28]\n"
     ]
    }
   ],
   "source": [
    "#we have prepared a list from the given list in such a way that in the new list the next term is the sum of last all the Terms\n",
    "#\tGive List : A = [1,2,3,4,5,6,7]\n",
    "#\t\t     P = [1,3,6,10,15,21,28]\n",
    "#\tThe list A would be give to me and I have to write the program to print the list P\n",
    "#To find the cumulative sum\n",
    "A = [1,2,3,4,5,6,7]\n",
    "P = []\n",
    "current_sum=0\n",
    "for num in A:\n",
    "    current_sum += num\n",
    "    P.append(current_sum)\n",
    "print(P)"
   ]
  },
  {
   "cell_type": "code",
   "execution_count": 35,
   "metadata": {},
   "outputs": [
    {
     "name": "stdout",
     "output_type": "stream",
     "text": [
      "[1, 1, 1, 1, 1, 2, 2, 2, 3, 4, 4, 5, 5, 5, 6, 7, 7, 7, 7, 7, 7, 8, 8, 8, 9, 9, 9, 12, 13, 14, 15]\n"
     ]
    }
   ],
   "source": [
    "#To Sort the given list of the numbers having the repeated variable digits\n",
    "A=[9,8,7,9,8,9,8,7,7,1,3,4,2,2,1,1,1,4,5,5,5,6,7,7,7,12,1,2,13,14,15]\n",
    "for i in range(len(A)):\n",
    "    for j in range(i+1,len(A)):\n",
    "        if A[i]>A[j]:\n",
    "            A[i],A[j]=A[j],A[i]\n",
    "print(A)"
   ]
  }
 ],
 "metadata": {
  "kernelspec": {
   "display_name": "Python 3",
   "language": "python",
   "name": "python3"
  },
  "language_info": {
   "codemirror_mode": {
    "name": "ipython",
    "version": 3
   },
   "file_extension": ".py",
   "mimetype": "text/x-python",
   "name": "python",
   "nbconvert_exporter": "python",
   "pygments_lexer": "ipython3",
   "version": "3.12.4"
  }
 },
 "nbformat": 4,
 "nbformat_minor": 2
}
