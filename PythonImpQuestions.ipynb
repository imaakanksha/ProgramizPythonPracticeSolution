{
 "cells": [
  {
   "cell_type": "code",
   "execution_count": 3,
   "metadata": {},
   "outputs": [
    {
     "name": "stdout",
     "output_type": "stream",
     "text": [
      "0\n",
      "1\n",
      "1\n",
      "2\n",
      "3\n",
      "5\n",
      "8\n",
      "13\n",
      "21\n"
     ]
    }
   ],
   "source": [
    "# Generate an infinite Fibonacci Series by using a Generator\n",
    "\n",
    "def fibonacci():\n",
    "    a,b=0,1\n",
    "    while True:\n",
    "        yield a\n",
    "\n",
    "        a,b=b,a+b\n",
    "\n",
    "f1=fibonacci()\n",
    "print(next(f1))\n",
    "print(next(f1))\n",
    "print(next(f1))\n",
    "print(next(f1))\n",
    "print(next(f1))\n",
    "print(next(f1))\n",
    "print(next(f1))\n",
    "print(next(f1))\n",
    "print(next(f1))"
   ]
  },
  {
   "cell_type": "code",
   "execution_count": 5,
   "metadata": {},
   "outputs": [
    {
     "name": "stdout",
     "output_type": "stream",
     "text": [
      "[1, 2, 6, 8, 10, 12, 19, 35, 41]\n"
     ]
    }
   ],
   "source": [
    "#Sort a List without using a Sort Keyword\n",
    "list1=[41,2,12,6,35,8,10,1,19]\n",
    "n=len(list1)\n",
    "\n",
    "for i in range(len(list1)):\n",
    "    for j in range(i+1,len(list1)):\n",
    "        if list1[i] > list1[j]:\n",
    "            list1[i],list1[j]=list1[j],list1[i]\n",
    "print(list1)"
   ]
  },
  {
   "cell_type": "code",
   "execution_count": 7,
   "metadata": {},
   "outputs": [
    {
     "name": "stdout",
     "output_type": "stream",
     "text": [
      "Yes, the string is Palindrome.\n",
      "Yes,the given string is Palindrome.\n"
     ]
    }
   ],
   "source": [
    "#Write a code to check whether A String is Palindrome or Not?\n",
    "\n",
    "s=\"akankshaahsknaka\"\n",
    "if s == s[::-1]:\n",
    "    print(\"Yes, the string is Palindrome.\")\n",
    "else:\n",
    "    print(\"No, the string is not Palindrome.\")\n",
    "\n",
    "#Alternative way to check whether a string is Palindrome or not?\n",
    "s=\"nitin\"\n",
    "n=len(s)\n",
    "x=0\n",
    "for i in range(len(s)):\n",
    "    if s[i] != s[n-i-1]:\n",
    "        x=1\n",
    "        break\n",
    "if x==0:\n",
    "    print(\"Yes,the given string is Palindrome.\")\n",
    "else:\n",
    "    print(\"NO,the given string is not Palindrome.\")"
   ]
  },
  {
   "cell_type": "code",
   "execution_count": null,
   "metadata": {},
   "outputs": [],
   "source": [
    "#Sort A Dictonary / By using the Dict Comprehension\n"
   ]
  }
 ],
 "metadata": {
  "kernelspec": {
   "display_name": "Python 3",
   "language": "python",
   "name": "python3"
  },
  "language_info": {
   "codemirror_mode": {
    "name": "ipython",
    "version": 3
   },
   "file_extension": ".py",
   "mimetype": "text/x-python",
   "name": "python",
   "nbconvert_exporter": "python",
   "pygments_lexer": "ipython3",
   "version": "3.12.4"
  }
 },
 "nbformat": 4,
 "nbformat_minor": 2
}
